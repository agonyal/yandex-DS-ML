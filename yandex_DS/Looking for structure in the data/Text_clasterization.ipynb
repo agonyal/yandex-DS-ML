{
 "cells": [
  {
   "cell_type": "code",
   "execution_count": 1,
   "metadata": {},
   "outputs": [],
   "source": [
    "import warnings\n",
    "warnings.filterwarnings('ignore')"
   ]
  },
  {
   "cell_type": "markdown",
   "metadata": {},
   "source": [
    "#### Рассматриваем выборку"
   ]
  },
  {
   "cell_type": "markdown",
   "metadata": {},
   "source": [
    "Кластеризуем письма на различные темы"
   ]
  },
  {
   "cell_type": "code",
   "execution_count": 2,
   "metadata": {},
   "outputs": [],
   "source": [
    "from sklearn.datasets import fetch_20newsgroups"
   ]
  },
  {
   "cell_type": "code",
   "execution_count": 3,
   "metadata": {},
   "outputs": [
    {
     "name": "stdout",
     "output_type": "stream",
     "text": [
      "['alt.atheism', 'comp.graphics', 'comp.os.ms-windows.misc', 'comp.sys.ibm.pc.hardware', 'comp.sys.mac.hardware', 'comp.windows.x', 'misc.forsale', 'rec.autos', 'rec.motorcycles', 'rec.sport.baseball', 'rec.sport.hockey', 'sci.crypt', 'sci.electronics', 'sci.med', 'sci.space', 'soc.religion.christian', 'talk.politics.guns', 'talk.politics.mideast', 'talk.politics.misc', 'talk.religion.misc']\n"
     ]
    }
   ],
   "source": [
    "train_all = fetch_20newsgroups(subset = 'train')\n",
    "print(train_all.target_names)"
   ]
  },
  {
   "cell_type": "markdown",
   "metadata": {},
   "source": [
    "Берем простую выборку состоящую из 3 тем, сильно отличающихся друг от друга"
   ]
  },
  {
   "cell_type": "code",
   "execution_count": 4,
   "metadata": {},
   "outputs": [],
   "source": [
    "simple_dataset = fetch_20newsgroups(subset = 'train',\n",
    "                                   categories = ['comp.sys.mac.hardware', \n",
    "                                                 'soc.religion.christian',\n",
    "                                                'rec.sport.hockey'])"
   ]
  },
  {
   "cell_type": "code",
   "execution_count": 5,
   "metadata": {},
   "outputs": [
    {
     "name": "stdout",
     "output_type": "stream",
     "text": [
      "From: erik@cheshire.oxy.edu (Erik Adams)\n",
      "Subject: HELP!!  My Macintosh \"luggable\" has lines on its screen!\n",
      "Organization: Occidental College, Los Angeles, CA 90041 USA.\n",
      "Distribution: comp\n",
      "Lines: 20\n",
      "\n",
      "Okay, I don't use it very much, but I would like for it to keep working\n",
      "correctly, at least as long as Apple continues to make System software\n",
      "that will run on it, if slowly :-)\n",
      "\n",
      "Here is the problem:  When the screen is tilted too far back, vertical\n",
      "lines appear on the screen.  They are every 10 pixels or so, and seem\n",
      "to be affected somewhat by opening windows and pulling down menus.\n",
      "It looks to a semi-technical person like there is a loose connection\n",
      "between the screen and the rest of the computer.\n",
      "\n",
      "I am open to suggestions that do not involve buying a new computer,\n",
      "or taking this one to the shop.  I would also like to not have\n",
      "to buy one of Larry Pina's books.  I like Larry, but I'm not sure\n",
      "I feel strongly enough about the computer to buy a service manual\n",
      "for it.\n",
      "\n",
      "On a related note:  what does the monitor connector connect to?\n",
      "\n",
      "Erik\n",
      "\n",
      "\n"
     ]
    }
   ],
   "source": [
    "print(simple_dataset.data[0])"
   ]
  },
  {
   "cell_type": "code",
   "execution_count": 6,
   "metadata": {},
   "outputs": [
    {
     "data": {
      "text/plain": [
       "array([0, 0, 1, ..., 0, 1, 2], dtype=int32)"
      ]
     },
     "execution_count": 6,
     "metadata": {},
     "output_type": "execute_result"
    }
   ],
   "source": [
    "simple_dataset.target"
   ]
  },
  {
   "cell_type": "code",
   "execution_count": 7,
   "metadata": {
    "jupyter": {
     "source_hidden": true
    }
   },
   "outputs": [
    {
     "name": "stdout",
     "output_type": "stream",
     "text": [
      "From: dlecoint@garnet.acns.fsu.edu (Darius_Lecointe)\n",
      "Subject: Re: Sabbath Admissions 5of5\n",
      "Organization: Florida State University\n",
      "Lines: 21\n",
      "\n",
      "I find it interesting that cls never answered any of the questions posed. \n",
      "Then he goes on the make statements which make me shudder.  He has\n",
      "established a two-tiered God.  One set of rules for the Jews (his people)\n",
      "and another set for the saved Gentiles (his people).  Why would God\n",
      "discriminate?  Does the Jew who accepts Jesus now have to live under the\n",
      "Gentile rules.\n",
      "\n",
      "God has one set of rules for all his people.  Paul was never against the\n",
      "law.  In fact he says repeatedly that faith establishes rather that annuls\n",
      "the law.  Paul's point is germane to both Jews and Greeks.  The Law can\n",
      "never be used as an instrument of salvation.  And please do not combine\n",
      "the ceremonial and moral laws in one.\n",
      "\n",
      "In Matt 5:14-19 Christ plainly says what He came to do and you say He was\n",
      "only saying that for the Jews's benefit.  Your Christ must be a\n",
      "politician, speaking from both sides of His mouth.  As Paul said, \"I have\n",
      "not so learned Christ.\"  Forget all the theology, just do what Jesus says.\n",
      " Your excuses will not hold up in a court of law on earth, far less in\n",
      "God's judgement hall.\n",
      "\n",
      "Darius\n",
      "\n"
     ]
    }
   ],
   "source": [
    "print(simple_dataset.data[-1])"
   ]
  },
  {
   "cell_type": "code",
   "execution_count": 8,
   "metadata": {},
   "outputs": [
    {
     "name": "stdout",
     "output_type": "stream",
     "text": [
      "From: scialdone@nssdca.gsfc.nasa.gov (John Scialdone)\n",
      "Subject: CUT Vukota and Pilon!!!\n",
      "News-Software: VAX/VMS VNEWS 1.41    \n",
      "Organization: NASA - Goddard Space Flight Center\n",
      "Lines: 32\n",
      "\n",
      "I have been to all 3 Isles/Caps tilts at the Crap Centre this year, all Isles\n",
      "wins and there is no justification for Vukota and Pilon to play for the Isles.\n",
      "Vukota is absolutely the worst puck handler in the world!! He couldn't hit a\n",
      "bull in the ass with a banjo!! Al must remember a few years back when Mick \n",
      "scored 3 goals in one period against the Caps in a 5-3 Isles win. I was there\n",
      "and was astonished as was the rest of the crowd. Wake-up Al!!! Years later he's\n",
      "gotten worse. He's a cheap shot artist and always ends up getting\n",
      "stupid/senseless penalties. I think he would make a good police officier!!!\n",
      "\n",
      "As for Pilon, he can't carry the puck out to center ice by himself. He either\n",
      "makes a bad pass resulting in a turnover, or he attempts to bring the puck \n",
      "towards the neutral zone and skates right into an opposing skater. He can't\n",
      "stay on his skates with most forwards or centers. He either falls down or \n",
      "committs a penalty. Call up somebody from Capital District AL!!!!!\n",
      "\n",
      "As far as the playoffs, the Isles are as difficult to figure out as the Caps.\n",
      "Two good teams with talent but so inconsistent. They should meet in the first\n",
      "round. The Isles seem to play up to the level of their competition so they\n",
      "should play well against Jersey tonite. It'll probably be another tight 1-goal\n",
      "game as the last 20 games hve been for the Isles. I wish when the get a lead\n",
      "they could continue to pour it on instead of settling back into a defensive\n",
      "shell and letting the opposition get back in the game. Al MUST understand he\n",
      "can't do with this team what he did with the 80-83 Isles. maybe Al should got\n",
      "to. Where is Bobby Nystrom?? Clark Gilles?? John Tonelli?? These are the kind\n",
      "of young minds we need behing the bench!!    FIRE AL!!!!\n",
      "\n",
      "John Scialdone\n",
      "SCIALDONE@NSSDCA.GSFC.NASA.GOV\n",
      "\n",
      "**********When your ship comes in, first man takes the Sail********************\n",
      "\n",
      "\n",
      "\n"
     ]
    }
   ],
   "source": [
    "print(simple_dataset.data[-2])"
   ]
  },
  {
   "cell_type": "code",
   "execution_count": 9,
   "metadata": {},
   "outputs": [
    {
     "name": "stdout",
     "output_type": "stream",
     "text": [
      "1777\n"
     ]
    }
   ],
   "source": [
    "print(len(simple_dataset.data))"
   ]
  },
  {
   "cell_type": "markdown",
   "metadata": {},
   "source": [
    "#### Отбираем признаки"
   ]
  },
  {
   "cell_type": "code",
   "execution_count": 10,
   "metadata": {},
   "outputs": [],
   "source": [
    "from sklearn.feature_extraction.text import CountVectorizer, TfidfVectorizer"
   ]
  },
  {
   "cell_type": "code",
   "execution_count": 11,
   "metadata": {},
   "outputs": [
    {
     "data": {
      "text/plain": [
       "'0.23.1'"
      ]
     },
     "execution_count": 11,
     "metadata": {},
     "output_type": "execute_result"
    }
   ],
   "source": [
    "import sklearn\n",
    "sklearn.__version__ "
   ]
  },
  {
   "cell_type": "markdown",
   "metadata": {},
   "source": [
    "Задаем пороги для максимальной max_df и минимальной взвешенной частоты min_df слов"
   ]
  },
  {
   "cell_type": "code",
   "execution_count": 12,
   "metadata": {},
   "outputs": [],
   "source": [
    "vectorizer = TfidfVectorizer(max_df=500, min_df=10)\n",
    "matrix = vectorizer.fit_transform(simple_dataset.data)"
   ]
  },
  {
   "cell_type": "code",
   "execution_count": 13,
   "metadata": {},
   "outputs": [
    {
     "data": {
      "text/plain": [
       "(1777, 3767)"
      ]
     },
     "execution_count": 13,
     "metadata": {},
     "output_type": "execute_result"
    }
   ],
   "source": [
    "matrix.shape"
   ]
  },
  {
   "cell_type": "markdown",
   "metadata": {},
   "source": [
    "Пользуемся аггломеративной кластеризацией, тк можно задать метрику близости и косинусную меру(хороша для текстов)"
   ]
  },
  {
   "cell_type": "code",
   "execution_count": 14,
   "metadata": {},
   "outputs": [],
   "source": [
    "from sklearn.cluster.hierarchical import AgglomerativeClustering"
   ]
  },
  {
   "cell_type": "markdown",
   "metadata": {},
   "source": [
    "Алгоритм не поддерживает разреженные матрицы => приводим к плотному виду (matrix.toarray() )"
   ]
  },
  {
   "cell_type": "code",
   "execution_count": 15,
   "metadata": {},
   "outputs": [],
   "source": [
    "model = AgglomerativeClustering(n_clusters = 3, affinity = 'cosine',\n",
    "                               linkage = 'complete')\n",
    "preds = model.fit_predict(matrix.toarray())"
   ]
  },
  {
   "cell_type": "code",
   "execution_count": 16,
   "metadata": {},
   "outputs": [
    {
     "name": "stdout",
     "output_type": "stream",
     "text": [
      "[0, 0, 0, 0, 0, 0, 0, 0, 0, 0, 0, 0, 0, 0, 0, 0, 0, 0, 0, 0, 0, 0, 0, 0, 0, 0, 0, 0, 0, 0, 0, 0, 0, 0, 0, 0, 0, 0, 0, 0, 2, 0, 0, 0, 0, 0, 0, 0, 0, 0, 0, 0, 0, 0, 0, 0, 0, 0, 0, 0, 0, 0, 0, 0, 0, 0, 0, 0, 0, 0, 0, 0, 0, 0, 0, 0, 0, 0, 0, 0, 0, 0, 1, 2, 0, 0, 0, 0, 0, 0, 0, 0, 0, 0, 0, 0, 0, 0, 0, 0, 0, 0, 0, 0, 0, 0, 0, 0, 2, 0, 0, 0, 0, 0, 0, 1, 0, 0, 0, 0, 0, 0, 0, 0, 0, 0, 0, 0, 0, 0, 0, 0, 0, 0, 0, 2, 0, 0, 0, 0, 0, 0, 0, 0, 0, 0, 0, 0, 0, 0, 0, 0, 0, 0, 0, 0, 0, 2, 0, 0, 0, 0, 0, 0, 0, 0, 0, 0, 0, 0, 0, 0, 0, 0, 0, 0, 0, 0, 0, 0, 0, 0, 0, 0, 0, 0, 0, 0, 0, 0, 0, 0, 0, 0, 0, 0, 0, 0, 0, 0, 0, 0, 0, 0, 0, 0, 0, 0, 0, 0, 0, 0, 2, 0, 0, 0, 0, 0, 2, 0, 0, 0, 0, 0, 0, 0, 0, 0, 2, 0, 0, 0, 0, 0, 0, 0, 0, 0, 0, 0, 0, 0, 0, 0, 0, 0, 0, 0, 0, 0, 0, 0, 2, 0, 0, 0, 0, 0, 0, 0, 0, 0, 0, 0, 0, 0, 0, 0, 0, 0, 0, 0, 0, 0, 0, 0, 0, 0, 0, 0, 0, 0, 0, 0, 0, 0, 0, 0, 0, 0, 0, 0, 0, 0, 0, 0, 0, 0, 0, 0, 0, 0, 0, 0, 0, 0, 0, 0, 0, 0, 0, 0, 0, 0, 0, 0, 0, 0, 0, 0, 0, 0, 0, 0, 0, 0, 0, 0, 0, 0, 0, 0, 0, 0, 0, 0, 0, 0, 0, 0, 0, 0, 0, 0, 0, 0, 0, 0, 0, 0, 0, 0, 0, 1, 0, 0, 0, 0, 0, 0, 1, 0, 0, 0, 0, 0, 0, 2, 0, 0, 0, 0, 0, 0, 0, 0, 0, 0, 0, 0, 0, 0, 0, 0, 0, 0, 0, 0, 0, 0, 0, 0, 0, 0, 0, 0, 0, 0, 0, 0, 0, 0, 0, 0, 0, 0, 0, 0, 0, 0, 0, 0, 0, 0, 0, 0, 0, 0, 0, 0, 0, 0, 0, 0, 0, 0, 0, 0, 0, 2, 0, 0, 0, 0, 0, 0, 0, 0, 0, 0, 0, 0, 0, 0, 0, 0, 0, 0, 0, 0, 0, 0, 2, 0, 0, 0, 0, 0, 0, 0, 0, 0, 0, 0, 0, 0, 0, 0, 0, 0, 0, 0, 0, 0, 0, 0, 0, 0, 0, 0, 0, 0, 0, 0, 0, 0, 0, 0, 2, 0, 0, 0, 0, 0, 0, 0, 0, 0, 0, 0, 0, 0, 0, 0, 0, 0, 0, 0, 0, 0, 0, 1, 0, 0, 0, 0, 0, 0, 0, 0, 0, 0, 0, 0, 0, 0, 0, 0, 0, 0, 0, 0, 0, 0, 0, 0, 0, 0, 0, 0, 0, 0, 0, 0, 0, 0, 0, 0, 0, 0, 0, 0, 0, 0, 0, 0, 0, 0, 0, 0, 0, 0, 0, 0, 0, 0, 0, 0, 0, 0, 0, 0, 0, 0, 0, 0, 0, 0, 0, 0, 0, 0, 0, 0, 0, 0, 0, 0, 0, 0, 0, 0, 0, 0, 2, 0, 0, 2, 0, 0, 0, 0, 0, 0, 0, 0, 0, 0, 0, 0, 0, 0, 0, 0, 0, 0, 0, 0, 0, 0, 0, 0, 0, 0, 0, 0, 0, 0, 0, 0, 0, 0, 0, 2, 0, 0, 0, 0, 0, 0, 0, 0, 0, 0, 0, 0, 0, 0, 0, 0, 0, 0, 0, 0, 0, 0, 0, 2, 0, 0, 0, 0, 0, 0, 0, 0, 0, 0, 0, 0, 0, 0, 0, 0, 0, 0, 0, 0, 0, 0, 0, 0, 0, 0, 1, 0, 0, 0, 0, 0, 0, 0, 0, 2, 0, 0, 0, 0, 0, 0, 0, 0, 0, 1, 0, 0, 0, 0, 0, 0, 0, 0, 0, 0, 0, 0, 0, 0, 0, 0, 0, 0, 0, 0, 0, 0, 0, 0, 0, 0, 0, 0, 0, 0, 0, 0, 0, 0, 0, 0, 0, 0, 0, 0, 0, 0, 0, 0, 0, 0, 0, 0, 0, 0, 1, 0, 0, 0, 0, 0, 0, 2, 0, 0, 0, 0, 0, 0, 0, 0, 0, 0, 0, 0, 0, 0, 0, 0, 0, 0, 0, 0, 0, 0, 0, 0, 0, 0, 0, 2, 0, 0, 0, 0, 0, 0, 0, 0, 0, 0, 0, 0, 0, 0, 0, 0, 0, 0, 0, 0, 0, 0, 0, 0, 0, 0, 0, 0, 0, 0, 0, 0, 0, 0, 1, 0, 0, 0, 2, 0, 0, 0, 0, 0, 0, 0, 0, 0, 0, 0, 0, 0, 0, 0, 0, 0, 0, 0, 0, 0, 0, 0, 0, 0, 0, 0, 0, 0, 0, 0, 0, 0, 0, 0, 0, 0, 0, 0, 0, 0, 0, 0, 0, 0, 0, 0, 0, 0, 0, 0, 0, 0, 0, 0, 0, 0, 0, 0, 0, 0, 2, 0, 0, 0, 0, 0, 0, 0, 0, 0, 0, 0, 0, 0, 0, 0, 0, 0, 0, 0, 0, 0, 0, 0, 2, 0, 0, 0, 0, 0, 0, 0, 0, 0, 0, 0, 0, 0, 0, 0, 0, 0, 0, 0, 0, 0, 0, 0, 0, 0, 0, 0, 0, 2, 0, 0, 0, 0, 0, 1, 0, 0, 0, 0, 0, 0, 0, 0, 0, 0, 0, 0, 0, 0, 0, 0, 0, 2, 0, 0, 0, 0, 0, 0, 0, 0, 0, 0, 0, 0, 1, 0, 0, 0, 0, 0, 0, 0, 0, 0, 0, 0, 0, 0, 0, 0, 0, 0, 0, 0, 0, 0, 0, 0, 0, 0, 0, 0, 0, 0, 0, 0, 0, 0, 0, 0, 0, 0, 0, 0, 0, 0, 0, 0, 0, 0, 0, 0, 0, 0, 0, 0, 0, 0, 0, 0, 0, 0, 0, 0, 0, 0, 0, 0, 0, 0, 0, 0, 0, 0, 0, 0, 0, 0, 0, 0, 0, 0, 0, 0, 0, 0, 0, 0, 0, 0, 0, 0, 0, 0, 0, 0, 0, 2, 0, 0, 0, 0, 0, 0, 0, 0, 0, 0, 0, 0, 2, 0, 0, 0, 0, 0, 0, 0, 0, 0, 0, 0, 0, 0, 0, 0, 0, 0, 0, 0, 0, 0, 0, 0, 0, 0, 0, 0, 0, 0, 0, 0, 0, 0, 0, 0, 0, 0, 0, 0, 0, 2, 0, 0, 0, 0, 0, 0, 0, 0, 0, 0, 0, 0, 0, 0, 0, 0, 0, 0, 0, 0, 0, 0, 0, 0, 0, 0, 0, 0, 0, 0, 0, 0, 0, 0, 0, 0, 0, 0, 0, 0, 0, 0, 0, 0, 0, 0, 0, 0, 0, 0, 0, 0, 0, 0, 0, 0, 0, 0, 0, 0, 0, 0, 0, 0, 0, 0, 0, 0, 0, 0, 0, 0, 0, 0, 0, 0, 0, 0, 0, 0, 0, 0, 0, 0, 0, 0, 0, 0, 0, 0, 0, 0, 0, 0, 0, 0, 0, 0, 0, 0, 0, 0, 0, 0, 0, 0, 0, 0, 0, 0, 0, 0, 0, 0, 0, 0, 0, 0, 0, 0, 0, 0, 0, 0, 0, 0, 0, 0, 0, 0, 0, 2, 0, 0, 0, 0, 0, 0, 0, 0, 0, 0, 0, 0, 0, 0, 0, 0, 0, 0, 0, 0, 1, 0, 0, 0, 0, 0, 0, 0, 0, 2, 0, 0, 0, 0, 0, 0, 0, 0, 0, 0, 0, 0, 0, 0, 0, 0, 1, 0, 2, 0, 0, 0, 0, 0, 0, 0, 0, 0, 0, 0, 0, 0, 0, 0, 0, 0, 2, 0, 0, 0, 0, 0, 0, 0, 0, 0, 0, 0, 0, 0, 0, 0, 0, 0, 0, 0, 0, 0, 1, 0, 0, 0, 0, 0, 0, 0, 0, 0, 0, 0, 0, 0, 0, 0, 0, 0, 0, 0, 0, 0, 0, 0, 0, 0, 0, 0, 2, 0, 0, 0, 0, 0, 0, 0, 0, 0, 0, 0, 0, 0, 0, 0, 0, 0, 0, 0, 0, 0, 0, 0, 0, 0, 0, 0, 0, 0, 0, 0, 0, 0, 0, 0, 0, 0, 0, 0, 1, 0, 0, 0, 0, 0, 0, 0, 0, 0, 0, 0, 0, 0, 0, 0, 0, 0, 0, 0, 0, 0, 0, 0, 0, 0, 0, 0, 0, 0, 0, 0, 0, 0, 0, 0, 0, 0, 0, 0, 0, 0, 0, 0, 0, 0, 0, 0, 0, 0, 0, 0, 0, 0, 0, 0, 0, 0, 0, 0, 0, 0, 0, 0, 0, 0, 0, 0, 0, 0, 0, 0, 0, 0, 0, 0, 0, 0, 0, 0, 0, 0, 2, 0, 0, 1, 0, 0, 0, 0, 0, 0, 0, 0, 0, 0, 0, 2, 0, 0, 0, 1, 0, 0, 0, 0, 0, 0, 0, 0, 0, 0, 0, 0, 0, 0, 0, 0, 0, 0, 0, 0, 0, 0, 0, 0, 0, 0, 0, 0, 0, 0, 0, 0, 0, 1, 0, 0, 0, 0, 0, 0, 0, 0, 0, 0, 0, 0, 0, 0, 0, 0, 0, 0, 0, 0, 0, 0, 0, 0, 0, 0, 0, 0, 0, 0, 0, 0, 0, 0, 2, 0, 0, 0, 0, 0, 0, 0, 0, 0, 0, 0, 2, 0, 0, 0, 0, 0, 0, 0, 0, 0, 0, 0, 0, 0, 0, 0, 0, 1, 0, 0, 0, 0, 0, 0, 0, 0, 0, 0, 0, 0, 0, 0, 0, 0, 0, 0, 0, 0, 0, 0, 0, 0, 0, 0, 0, 0, 0, 0, 0, 0, 0, 0, 0, 0, 0, 0, 0, 0, 0, 0, 0, 0, 0, 0, 0, 0, 0, 0, 0, 0, 0, 0, 0, 0, 0, 0, 0, 0, 0, 0, 0, 0, 0, 0, 0, 0, 0, 1, 0, 0, 0, 0, 0, 0, 0, 0, 0, 0, 0, 0, 0, 0, 0, 2, 0, 0, 0, 0, 0, 0, 0, 0, 0, 0, 0, 0, 0, 0, 0, 0, 0, 0, 0, 0, 0, 0, 0, 0, 0, 0, 0, 0, 0, 0, 0, 0, 0, 0, 0, 0, 0, 0, 0, 0, 0, 0, 0, 0, 0, 0, 0, 0, 0, 0, 0, 0, 0, 0, 0, 0, 0, 0, 0, 0, 0, 0, 0, 0, 0, 0, 0, 0, 0, 0, 0, 0, 0, 2, 1]\n"
     ]
    }
   ],
   "source": [
    "print(list(preds))"
   ]
  },
  {
   "cell_type": "code",
   "execution_count": 17,
   "metadata": {},
   "outputs": [
    {
     "data": {
      "text/plain": [
       "<1x3767 sparse matrix of type '<class 'numpy.float64'>'\n",
       "\twith 75 stored elements in Compressed Sparse Row format>"
      ]
     },
     "execution_count": 17,
     "metadata": {},
     "output_type": "execute_result"
    }
   ],
   "source": [
    "matrix[0]"
   ]
  },
  {
   "cell_type": "code",
   "execution_count": 18,
   "metadata": {},
   "outputs": [
    {
     "name": "stdout",
     "output_type": "stream",
     "text": [
      "['00', '000', '01', '02', '03', '030', '0358', '04', '040', '05', '06', '07', '08', '09', '10', '100', '1000', '101', '102', '104', '105', '106', '109', '11', '110', '112', '113', '119', '12', '120', '126', '127', '128', '129', '13', '132', '133', '14', '140', '15', '150', '152', '16', '160', '17', '170', '175', '18', '180', '19', '1987', '1988', '1989', '199', '1990', '1991', '1992', '1993', '1993apr14', '1993apr15', '1993apr16', '1993apr18', '1993apr19', '1993apr20', '1993apr5', '1993apr6', '1d17', '1d20', '1st', '20', '200', '2000', '203', '21', '210', '22', '23', '230', '24', '240', '241', '25', '253', '256', '25mhz', '26', '27', '28', '286', '29', '2nd', '30', '300', '30602', '31', '32', '33', '34', '35', '36', '37', '38', '386', '39', '3rd', '40', '400', '403', '408', '41', '42', '43', '44', '45', '46', '47', '48', '486', '49', '4mb', '4th', '50', '500', '51', '512', '512k', '52', '53', '54', '542', '55', '56', '57', '58', '59', '5of5', '5th', '60', '600', '61', '610', '62', '63', '64', '65', '650', '66', '67', '68', '68030', '68040', '680x0', '69', '6th', '70', '700', '706', '71', '72', '73', '74', '7415', '75', '76', '77', '78', '79', '7th', '80', '800', '80ns', '81', '82', '83', '84', '85', '86', '87', '88', '89', '90', '900', '91', '92', '93', '94', '95', '950', '96', '97', '9760', '98', '99', '__', '___', '____', 'aa888', 'aaron', 'ab', 'abc', 'ability', 'able', 'abo', 'above', 'abraham', 'absence', 'absolute', 'absolutely', 'absolutes', 'ac', 'academic', 'acc', 'accelerator', 'accept', 'acceptable', 'accepted', 'accepting', 'access', 'according', 'account', 'accounts', 'accurate', 'achieve', 'achkar', 'acknowledge', 'acns', 'acquired', 'across', 'acs', 'acsu', 'act', 'action', 'actions', 'active', 'acts', 'actual', 'actually', 'ad', 'adam', 'adams', 'adapter', 'adb', 'add', 'added', 'adding', 'addition', 'additional', 'address', 'addresses', 'adirondack', 'admissions', 'admit', 'adopt', 'advance', 'advanced', 'advantage', 'advice', 'affected', 'afford', 'afraid', 'africa', 'after', 'afternoon', 'again', 'against', 'age', 'agnostic', 'ago', 'agree', 'agreed', 'agreement', 'ah', 'ahead', 'ahl', 'ai', 'aids', 'air', 'aisun3', 'al', 'alan', 'alberta', 'alchemy', 'alexander', 'alive', 'allen', 'allow', 'allowed', 'allows', 'almost', 'alone', 'along', 'alot', 'alpha', 'already', 'also', 'alt', 'alternative', 'although', 'altogether', 'alvin', 'always', 'am', 'am2x', 'amateur', 'amazing', 'ambiguous', 'america', 'american', 'americans', 'among', 'amount', 'amour', 'analysis', 'ancient', 'anderson', 'andersson', 'andrew', 'andreychuk', 'andy', 'angeles', 'angels', 'anger', 'angry', 'animals', 'ann', 'anna', 'announce', 'announced', 'announcer', 'announcers', 'annoying', 'another', 'answer', 'answered', 'answering', 'answers', 'antonio', 'anybody', 'anymore', 'anyone', 'anything', 'anytime', 'anyway', 'anyways', 'anywhere', 'apart', 'apologize', 'apostle', 'apostles', 'apparent', 'apparently', 'appear', 'appeared', 'appears', 'apple', 'applelink', 'appletalk', 'application', 'applications', 'applied', 'applies', 'apply', 'appointed', 'appreciate', 'appreciated', 'approach', 'appropriate', 'approved', 'apr', 'april', 'aps', 'aquinas', 'arbor', 'area', 'areas', 'aren', 'arena', 'argue', 'arguing', 'argument', 'arguments', 'army', 'around', 'arrogance', 'arrogant', 'art', 'articles', 'artificial', 'arts', 'ashley', 'aside', 'ask', 'asked', 'asking', 'asks', 'aspect', 'aspects', 'ass', 'assertion', 'assist', 'assistant', 'assists', 'associate', 'associated', 'association', 'assume', 'assumed', 'assuming', 'assumption', 'astray', 'atheism', 'atheist', 'atheists', 'athena', 'athens', 'athos', 'atlanta', 'att', 'attack', 'attempt', 'attempted', 'attempting', 'attempts', 'attendance', 'attention', 'atterlep', 'attitude', 'au', 'audience', 'austin', 'australia', 'author', 'authorities', 'authority', 'authors', 'auto', 'available', 'ave', 'avenue', 'average', 'avoid', 'awarded', 'awards', 'aware', 'away', 'awesome', 'awful', 'axelsson', 'back', 'background', 'backup', 'bad', 'baker', 'ball', 'ballentine', 'baltimore', 'band', 'baptism', 'barrasso', 'base', 'baseball', 'based', 'basic', 'basically', 'basis', 'basketball', 'battery', 'battle', 'bay', 'bbs', 'bc', 'bear', 'bears', 'beat', 'beautiful', 'became', 'because', 'become', 'becomes', 'becoming', 'been', 'before', 'beg', 'began', 'begin', 'beginning', 'begins', 'behalf', 'behavior', 'behaviour', 'behind', 'being', 'beings', 'belfour', 'belief', 'beliefs', 'believe', 'believed', 'believers', 'believes', 'believing', 'bell', 'bellows', 'belong', 'below', 'bench', 'benefit', 'beranek', 'berkeley', 'bernoulli', 'beside', 'besides', 'best', 'bet', 'better', 'between', 'beyond', 'bgsu', 'bgu', 'biased', 'bible', 'biblical', 'big', 'bigger', 'biggest', 'bill', 'birth', 'bishop', 'bit', 'bitnet', 'bits', 'black', 'blackhawks', 'blame', 'bless', 'blessed', 'blind', 'blindly', 'block', 'blood', 'blow', 'blue', 'blues', 'bnr', 'board', 'boarding', 'boards', 'bob', 'bobby', 'body', 'book', 'books', 'bookstore', 'boot', 'born', 'bos', 'boss', 'boston', 'both', 'bother', 'bothers', 'bottom', 'bought', 'boulder', 'bound', 'boundary', 'bourque', 'bowling', 'box', 'boxes', 'boy', 'brad', 'bradley', 'brain', 'branch', 'brand', 'braves', 'break', 'breaker', 'breaking', 'brent', 'breton', 'bri', 'brian', 'brief', 'brind', 'bring', 'brings', 'british', 'broadcast', 'broke', 'broken', 'brother', 'brothers', 'brought', 'brown', 'bruce', 'bruins', 'brunswick', 'bryan', 'btw', 'bu', 'buddhism', 'buddhist', 'buf', 'buffalo', 'bug', 'build', 'building', 'built', 'bunch', 'bure', 'burnaby', 'burned', 'burns', 'bus', 'business', 'butt', 'button', 'buy', 'buying', 'byler', 'bytes', 'c610', 'c650', 'ca', 'cable', 'cables', 'cache', 'cadkey', 'cage', 'cal', 'calder', 'calgary', 'california', 'call', 'called', 'calling', 'calls', 'calvin', 'cam', 'came', 'camp', 'campbell', 'campus', 'canada', 'canadian', 'canadians', 'canadiens', 'cannot', 'canon', 'canucks', 'capability', 'capable', 'capacity', 'cape', 'capital', 'capitals', 'caps', 'captain', 'captains', 'car', 'caralv', 'card', 'cardinal', 'cards', 'care', 'career', 'careful', 'carefully', 'cares', 'carleton', 'carnegie', 'carol', 'carolina', 'carpenter', 'carried', 'carry', 'carrying', 'carson', 'cartridge', 'case', 'cases', 'cassels', 'cast', 'category', 'catholic', 'catholics', 'caught', 'cause', 'caused', 'causes', 'cb', 'cbc', 'cbnewsh', 'cbnewsk', 'cc', 'ccu', 'cd', 'cd300', 'cec1', 'celebrate', 'cent', 'center', 'central', 'centre', 'centris', 'centuries', 'century', 'ceremonial', 'ceremony', 'certain', 'certainly', 'certainty', 'cf', 'cgsvax', 'chain', 'champions', 'championship', 'championships', 'champs', 'chance', 'chances', 'change', 'changed', 'changes', 'changing', 'channel', 'chapter', 'character', 'charge', 'charles', 'charlie', 'cheap', 'cheaper', 'check', 'checked', 'checking', 'cheers', 'chelios', 'chem', 'chemistry', 'cherry', 'chhabra', 'chi', 'chicago', 'chief', 'child', 'children', 'chip', 'chips', 'choice', 'choices', 'choose', 'choosing', 'chose', 'chosen', 'chris', 'christ', 'christian', 'christianity', 'christians', 'christopher', 'chuck', 'church', 'churches', 'ciccarelli', 'circle', 'circumstances', 'cis', 'cited', 'cities', 'city', 'civil', 'claim', 'claimed', 'claiming', 'claims', 'claremont', 'clark', 'clarke', 'clarkson', 'class', 'classic', 'classy', 'claude', 'clean', 'clear', 'clearly', 'clement', 'cleveland', 'clh', 'clinton', 'clock', 'close', 'closed', 'closely', 'closer', 'closest', 'club', 'cmu', 'co', 'coach', 'coaches', 'coaching', 'code', 'coffey', 'cohen', 'col', 'collection', 'college', 'collingridge', 'color', 'colorado', 'colors', 'colostate', 'colour', 'columbia', 'com', 'combination', 'combined', 'come', 'comes', 'comics', 'coming', 'command', 'commandments', 'commands', 'comment', 'commentary', 'comments', 'commitment', 'committed', 'common', 'communication', 'communications', 'communion', 'community', 'comp', 'companies', 'company', 'comparable', 'comparative', 'compare', 'compared', 'comparing', 'comparison', 'compatible', 'complain', 'complete', 'completed', 'completely', 'complex', 'complicated', 'compuserve', 'computer', 'computers', 'computing', 'con', 'concept', 'conception', 'concern', 'concerned', 'concerning', 'conclude', 'conclusion', 'conclusions', 'condemned', 'conditions', 'conditt', 'conference', 'configuration', 'conflict', 'confused', 'confusing', 'confusion', 'congregation', 'connect', 'connected', 'connection', 'connector', 'consecutive', 'consensus', 'conservative', 'consider', 'considered', 'considering', 'consistent', 'consistently', 'constant', 'constantly', 'consultant', 'contact', 'contained', 'contains', 'content', 'context', 'continent', 'continue', 'continued', 'continues', 'contract', 'contradict', 'contradiction', 'contradictory', 'contrary', 'contribution', 'control', 'conversion', 'convert', 'converted', 'convictions', 'convince', 'cook', 'cool', 'coos', 'copies', 'coprocessor', 'copy', 'cor', 'cordially', 'corinthians', 'corner', 'corp', 'corporation', 'correct', 'correctly', 'cost', 'costs', 'cote', 'could', 'couldn', 'council', 'count', 'counted', 'countries', 'country', 'couple', 'course', 'court', 'courtnall', 'cover', 'coverage', 'covered', 'covington', 'cpu', 'craft', 'craig', 'crap', 'crashes', 'craven', 'crazy', 'create', 'created', 'creation', 'creator', 'credit', 'critical', 'criticism', 'cross', 'crowd', 'cs', 'csd', 'cso', 'cu', 'cullen', 'cult', 'cultural', 'culture', 'cunixb', 'cunixc', 'cup', 'cups', 'curious', 'current', 'currently', 'curtis', 'cut', 'cwis', 'cwru', 'czech', 'd88', 'dahlen', 'daily', 'dal', 'dale', 'dalhousie', 'dallas', 'damn', 'damphousse', 'dan', 'danger', 'dangerous', 'daniel', 'dare', 'darius', 'darius_lecointe', 'darren', 'dartmouth', 'daryl', 'data', 'date', 'dave', 'david', 'davis', 'day', 'days', 'db7n', 'dchhabra', 'de', 'dead', 'deal', 'dealer', 'deals', 'dealt', 'dean', 'dear', 'death', 'debate', 'dec', 'decent', 'decide', 'decided', 'decision', 'decisions', 'declare', 'declared', 'deeds', 'deep', 'deepak', 'defect', 'defense', 'defenseman', 'defensemen', 'defensive', 'define', 'defined', 'definitely', 'definition', 'defy', 'degree', 'delay', 'deleted', 'deluxe', 'demand', 'demers', 'demon', 'denis', 'denominations', 'deny', 'department', 'depend', 'depending', 'depends', 'dept', 'depth', 'derek', 'derived', 'descartes', 'descent', 'describe', 'described', 'description', 'desert', 'deserve', 'deserved', 'deserves', 'design', 'designed', 'desire', 'desktop', 'despite', 'destroyed', 'det', 'detail', 'details', 'determine', 'determined', 'detroit', 'develop', 'developed', 'development', 'device', 'devices', 'devil', 'devils', 'dick', 'did', 'didn', 'die', 'died', 'diego', 'differ', 'difference', 'differences', 'different', 'difficult', 'difficulty', 'digex', 'dineen', 'direct', 'directed', 'direction', 'directly', 'disagree', 'disappear', 'disappointed', 'disappointment', 'disciples', 'discipline', 'disclaimer', 'discovered', 'discuss', 'discussed', 'discussing', 'discussion', 'discussions', 'disk', 'display', 'distinction', 'distinguish', 'distribution', 'district', 'div', 'divine', 'division', 'divisions', 'divorce', 'dlecoint', 'dock', 'doctrinal', 'doctrine', 'doctrines', 'document', 'documentation', 'documents', 'does', 'doesn', 'dog', 'doing', 'domi', 'done', 'donnelly', 'dont', 'door', 'double', 'doubt', 'doug', 'down', 'dozen', 'dpi', 'dr', 'draft', 'drafted', 'drake', 'draw', 'drawing', 'dream', 'dreams', 'drew', 'drive', 'driver', 'drivers', 'drives', 'driving', 'droopy', 'drop', 'dropped', 'drug', 'drugs', 'du', 'due', 'dumb', 'dunno', 'duo', 'during', 'duty', 'dying', 'dynamic', 'each', 'earlier', 'early', 'earth', 'easier', 'easily', 'east', 'easter', 'eastern', 'easy', 'eat', 'ecn', 'ed', 'edge', 'editor', 'edm', 'edmonton', 'education', 'educational', 'ee', 'eeap', 'effect', 'effective', 'effectively', 'effort', 'eight', 'either', 'eklund', 'electrical', 'electronic', 'else', 'em', 'email', 'emotional', 'emphasis', 'emphasize', 'empire', 'employer', 'empty', 'en', 'end', 'ended', 'ends', 'enemies', 'eng', 'engaged', 'engineer', 'engineering', 'english', 'enjoy', 'enough', 'enter', 'entered', 'entering', 'entire', 'entirely', 'entry', 'environment', 'environmentalism', 'eos', 'equal', 'equally', 'equivalent', 'era', 'ergo', 'eric', 'ericsson', 'erik', 'error', 'errors', 'escape', 'esp', 'especially', 'espn', 'essensa', 'essential', 'essentially', 'est', 'establish', 'established', 'et', 'etc', 'eternal', 'eternity', 'ethernet', 'ethnic', 'etxonss', 'europe', 'european', 'europeans', 'euros', 'evangelical', 'eve', 'even', 'event', 'events', 'eventually', 'ever', 'every', 'everybody', 'everyone', 'everything', 'everywhere', 'evidence', 'evil', 'ex', 'exact', 'exactly', 'examine', 'example', 'examples', 'excellent', 'except', 'exchange', 'excuse', 'exist', 'existed', 'existence', 'existing', 'exists', 'expansion', 'expect', 'expectations', 'expected', 'expecting', 'expensive', 'experience', 'experienced', 'experiences', 'experts', 'explain', 'explained', 'explaining', 'explanation', 'explicitly', 'express', 'expressed', 'expression', 'ext', 'extended', 'extent', 'external', 'extra', 'extreme', 'extremely', 'eye', 'eyes', 'face', 'facing', 'fact', 'factor', 'facts', 'fail', 'failed', 'fails', 'failure', 'fair', 'fairly', 'faith', 'faithful', 'fall', 'fallen', 'falls', 'false', 'fame', 'familiar', 'family', 'fan', 'fans', 'faq', 'far', 'farenebt', 'farm', 'fast', 'faster', 'father', 'fathers', 'fault', 'favor', 'favorite', 'fax', 'fear', 'fears', 'feature', 'features', 'fedorov', 'feed', 'feel', 'feeling', 'feelings', 'feels', 'feet', 'fell', 'fellow', 'felt', 'female', 'few', 'fewer', 'fi', 'fidonet', 'field', 'fight', 'fighting', 'figure', 'file', 'files', 'fill', 'filled', 'finabo', 'final', 'finally', 'finals', 'financial', 'find', 'finding', 'fine', 'finish', 'finished', 'finland', 'finnish', 'fire', 'fired', 'firmly', 'first', 'firstclass', 'fish', 'fisher', 'fit', 'five', 'fix', 'fixed', 'flame', 'flames', 'flat', 'flesh', 'flight', 'floppy', 'florida', 'flyers', 'flying', 'fnal', 'folks', 'follow', 'followed', 'followers', 'following', 'follows', 'food', 'fool', 'foolish', 'fools', 'force', 'forced', 'forever', 'forget', 'forgive', 'forgiven', 'forgiveness', 'forgot', 'form', 'formal', 'format', 'formatted', 'former', 'forms', 'forth', 'forward', 'forwards', 'foster', 'foul', 'found', 'foundation', 'founded', 'four', 'fourth', 'fpu', 'fr', 'france', 'franchise', 'francis', 'frank', 'fraser', 'fred', 'free', 'freedom', 'freenet', 'french', 'frequent', 'frequently', 'freshman', 'fri', 'friday', 'friedman', 'friend', 'friends', 'front', 'fsu', 'ftp', 'fuhr', 'fulfillment', 'full', 'fully', 'fun', 'function', 'fundamental', 'funny', 'further', 'furthermore', 'future', 'gain', 'gainey', 'galley', 'gallichio', 'game', 'games', 'garnet', 'gary', 'gatech', 'gathered', 'gaudreau', 'gave', 'gballent', 'gee', 'gene', 'general', 'generally', 'generation', 'genesis', 'geneva', 'gentile', 'gentiles', 'geoff', 'george', 'georgia', 'gerald', 'german', 'germany', 'gerry', 'get', 'gets', 'getting', 'gibson', 'gift', 'gifts', 'gilmour', 'give', 'given', 'gives', 'giving', 'glad', 'gld', 'glenn', 'glory', 'gm', 'gmt', 'gnu', 'go', 'goal', 'goalie', 'goalies', 'goals', 'goaltender', 'goaltenders', 'goaltending', 'god', 'goddess', 'gods', 'goes', 'going', 'golchowy', 'gold', 'golden', 'golf', 'gone', 'gonna', 'good', 'gospel', 'gospels', 'got', 'gotten', 'gov', 'government', 'graca', 'grace', 'grade', 'graduate', 'grand', 'grant', 'granted', 'graphics', 'grave', 'great', 'greater', 'greatest', 'greatly', 'greek', 'greeks', 'green', 'greg', 'gregmeister', 'gregory', 'gretzky', 'grew', 'ground', 'group', 'groups', 'grow', 'gsu0033', 'gt7122b', 'gtd597a', 'guaranteed', 'guess', 'guest', 'guide', 'guild', 'guilty', 'guy', 'guys', 'gvg', 'gvg47', 'habs', 'hacker', 'had', 'hades', 'hair', 'hal', 'half', 'halifax', 'hall', 'hammerl', 'hand', 'handed', 'handle', 'handled', 'hands', 'hanover', 'happen', 'happened', 'happening', 'happens', 'happiness', 'happy', 'hard', 'harder', 'hardly', 'hardware', 'harm', 'harris', 'hart', 'hartford', 'harvard', 'harvey', 'hasn', 'hatcher', 'hate', 'haven', 'having', 'hawgood', 'hawks', 'hayes', 'hd', 'head', 'headed', 'heads', 'health', 'healthy', 'healy', 'hear', 'heard', 'hearing', 'heart', 'hearts', 'heat', 'heath', 'heaven', 'hebrew', 'hebrews', 'held', 'hell', 'hello', 'help', 'helped', 'helpful', 'helps', 'helsinki', 'hemul', 'hence', 'her', 'here', 'heresy', 'herself', 'hewlett', 'hextall', 'hey', 'hi', 'hide', 'high', 'higher', 'highest', 'highly', 'hill', 'him', 'himself', 'his', 'historical', 'history', 'hit', 'hmm', 'hmmm', 'hockey', 'hold', 'holding', 'holds', 'hole', 'holy', 'home', 'homosexuality', 'honest', 'honor', 'hook', 'hope', 'hopefully', 'hoping', 'horizontal', 'hornets', 'hot', 'hour', 'hours', 'house', 'housley', 'houston', 'how', 'howe', 'however', 'hp', 'hrivnak', 'hrudey', 'hudson', 'huge', 'hughes', 'hull', 'hulman', 'human', 'humanity', 'humans', 'hurt', 'husband', 'hut', 'hydra', 'hype', 'ibm', 'ice', 'id', 'idacom', 'idea', 'ideas', 'identical', 'ie', 'ignorance', 'ignorant', 'ignore', 'ihl', 'ii', 'iici', 'iifx', 'iii', 'iisi', 'iivx', 'il', 'illegal', 'illinois', 'image', 'images', 'imagine', 'imho', 'immaculate', 'immediately', 'imo', 'impact', 'implications', 'imply', 'importance', 'important', 'impossible', 'impressed', 'impression', 'impressive', 'improve', 'inc', 'incapable', 'inch', 'include', 'included', 'includes', 'including', 'incorrect', 'increase', 'increasing', 'indeed', 'independent', 'indiana', 'indicate', 'indicates', 'individual', 'individuals', 'industry', 'inf', 'infallible', 'infinite', 'info', 'informatik', 'information', 'injuries', 'injury', 'innocent', 'input', 'ins', 'insane', 'insert', 'inside', 'insist', 'inspired', 'install', 'installed', 'instance', 'instead', 'institute', 'instruction', 'instructions', 'intel', 'intelligence', 'intelligent', 'intend', 'intended', 'intense', 'intent', 'intention', 'interest', 'interested', 'interesting', 'interface', 'interference', 'internal', 'international', 'internet', 'interpret', 'interpretation', 'interpretations', 'interpreted', 'into', 'introduced', 'invited', 'involve', 'involved', 'irrelevant', 'isaiah', 'islam', 'island', 'islanders', 'isles', 'isn', 'israel', 'issue', 'issues', 'ists', 'italy', 'items', 'its', 'itself', 'ivy', 'jack', 'jagr', 'james', 'jan', 'january', 'jarvis', 'jason', 'jayne', 'jca2', 'je', 'jeesus', 'jeff', 'jek', 'jerry', 'jersey', 'jerusalem', 'jesus', 'jets', 'jew', 'jewish', 'jews', 'jim', 'job', 'jodfishe', 'joe', 'joel', 'johansson', 'john', 'johnson', 'join', 'joined', 'joke', 'jokerit', 'jon', 'jose', 'joseph', 'joshua', 'joy', 'jr', 'judaism', 'judge', 'judged', 'judgement', 'jump', 'june', 'juneau', 'junior', 'jupiter', 'justice', 'justification', 'justified', 'justify', 'jwa', 'kansas', 'kean', 'keenan', 'keep', 'keeping', 'keith', 'keller', 'ken', 'kenneth', 'kentucky', 'kept', 'kevin', 'key', 'keyboard', 'keywords', 'kid', 'kids', 'kiefer', 'kill', 'killed', 'killing', 'kind', 'kinda', 'kinds', 'king', 'kingdom', 'kings', 'kingston', 'kit', 'kits', 'kkeller', 'knew', 'knowing', 'knowledge', 'knowledgeable', 'known', 'knows', 'konstantinov', 'koresh', 'kovalev', 'kozlov', 'kth', 'kulikauskas', 'kurri', 'la', 'lab', 'laboratories', 'laboratory', 'labs', 'lack', 'lady', 'lafontaine', 'lake', 'lamb', 'land', 'language', 'languages', 'large', 'largely', 'larry', 'laser', 'laserwriter', 'last', 'late', 'lately', 'later', 'latest', 'latin', 'latter', 'laugh', 'laurentian', 'law', 'lawrence', 'laws', 'lay', 'lbs', 'lc', 'lciii', 'lead', 'leader', 'leaders', 'leading', 'leads', 'leaf', 'leafs', 'league', 'learn', 'learned', 'learning', 'least', 'leave', 'leaves', 'leaving', 'led', 'lee', 'left', 'legal', 'legitimate', 'leland', 'lemieux', 'les', 'less', 'lesser', 'let', 'lets', 'letter', 'letters', 'letting', 'level', 'lewis', 'liberal', 'lie', 'lies', 'life', 'lifetime', 'light', 'likely', 'likewise', 'limited', 'limits', 'linden', 'lindroos', 'lindros', 'line', 'lineup', 'link', 'list', 'listed', 'listen', 'listening', 'lists', 'literal', 'literally', 'little', 'live', 'lived', 'lives', 'living', 'lk', 'll', 'local', 'locked', 'logic', 'logical', 'login', 'london', 'long', 'longer', 'look', 'looked', 'looking', 'looks', 'loop', 'lord', 'los', 'lose', 'losing', 'loss', 'lost', 'lot', 'lots', 'louis', 'love', 'loved', 'loves', 'loving', 'low', 'lower', 'ltd', 'lu', 'luck', 'lucky', 'ludicrous', 'ludwig', 'luke', 'ma', 'mac', 'machine', 'machines', 'macinnis', 'macintosh', 'macs', 'macuser', 'made', 'magazine', 'magnus', 'mail', 'mailing', 'main', 'maine', 'mainly', 'maintain', 'major', 'majority', 'make', 'makes', 'making', 'male', 'man', 'manage', 'management', 'manager', 'manitoba', 'mankind', 'manner', 'manson', 'manual', 'manufacturer', 'many', 'maple', 'march', 'marcus', 'mario', 'mark', 'marka', 'market', 'marketing', 'marriage', 'married', 'marry', 'martin', 'mary', 'maryland', 'mask', 'masks', 'mass', 'massachusetts', 'masses', 'master', 'match', 'material', 'math', 'mathematics', 'matt', 'matter', 'matters', 'matthew', 'matyas', 'max', 'maximum', 'may', 'maybe', 'maynard', 'mb', 'mcgill', 'mcintyre', 'mclean', 'mcovingt', 'mean', 'meaning', 'meaningful', 'meaningless', 'means', 'meant', 'measure', 'mechanism', 'media', 'medical', 'meet', 'meeting', 'meg', 'mellon', 'member', 'members', 'memorial', 'memory', 'men', 'mental', 'mention', 'mentioned', 'mercy', 'mere', 'merely', 'mess', 'message', 'messages', 'messiah', 'messier', 'met', 'method', 'methods', 'mhz', 'mi', 'miami', 'michael', 'michigan', 'microsoft', 'microsystems', 'mid', 'middle', 'midway', 'might', 'mighty', 'mike', 'mil', 'miller', 'million', 'milwaukee', 'min', 'mind', 'minds', 'mine', 'mini', 'ministry', 'minnesota', 'minor', 'minors', 'minus', 'minute', 'minutes', 'miracle', 'miracles', 'misc', 'misleading', 'miss', 'missed', 'missing', 'mission', 'mistake', 'mistaken', 'mistakes', 'mit', 'mlindroos', 'mmalt', 'mo', 'mode', 'model', 'models', 'modem', 'modems', 'moderator', 'modern', 'mogilny', 'molas', 'mom', 'moment', 'mon', 'monash', 'moncton', 'monday', 'money', 'monitor', 'monitors', 'month', 'months', 'montreal', 'moog', 'moral', 'more', 'moreover', 'morning', 'moses', 'most', 'mostly', 'mot', 'mother', 'motherboard', 'motorola', 'mount', 'mountain', 'mountains', 'mouse', 'mouth', 'move', 'moved', 'movement', 'moves', 'moving', 'mozart', 'mr', 'ms', 'much', 'mullen', 'muller', 'multiple', 'mun', 'murphy', 'murray', 'music', 'muslims', 'mussack', 'must', 'mvp', 'myself', 'mystery', 'n4tmi', 'na', 'nada', 'name', 'named', 'namely', 'names', 'nasa', 'national', 'nations', 'native', 'natural', 'naturally', 'nature', 'nba', 'ncaa', 'ncsu', 'near', 'nearly', 'nec', 'necessarily', 'necessary', 'need', 'needed', 'needless', 'needs', 'neely', 'negative', 'neil', 'neither', 'nelson', 'net', 'netcom', 'netnews', 'netters', 'network', 'neutral', 'never', 'new', 'newer', 'news', 'newsgroup', 'newsgroups', 'newsreader', 'next', 'nh', 'nhl', 'nice', 'nicely', 'night', 'nights', 'nih', 'nj', 'njd', 'nl', 'nlu', 'nne', 'nobody', 'node', 'noise', 'non', 'none', 'nonsense', 'nor', 'nordiques', 'nords', 'normal', 'normally', 'norris', 'north', 'northern', 'note', 'noted', 'notes', 'nothing', 'notice', 'noticed', 'notion', 'nova', 'now', 'noyes', 'ns', 'nt', 'nubus', 'number', 'numbers', 'numerous', 'nuntius', 'ny', 'nyc', 'nyi', 'nylander', 'nyr', 'nyx', 'nz', 'oakland', 'oates', 'obedience', 'obey', 'object', 'objective', 'observations', 'observed', 'obtained', 'obvious', 'obviously', 'occur', 'occurred', 'occurs', 'octopus', 'odd', 'odin', 'off', 'offense', 'offensive', 'offer', 'offered', 'offers', 'office', 'official', 'officially', 'often', 'oh', 'ohio', 'oilers', 'ok', 'okay', 'olchowy', 'old', 'older', 'once', 'ones', 'online', 'ontario', 'onto', 'open', 'opened', 'opening', 'operation', 'operations', 'opinion', 'opinions', 'opponent', 'opportunities', 'opportunity', 'opposed', 'option', 'optional', 'options', 'order', 'ordered', 'org', 'oriented', 'original', 'originally', 'originator', 'orthodox', 'ot', 'other', 'others', 'otherwise', 'ott', 'ottawa', 'otto', 'ought', 'our', 'ours', 'ourselves', 'output', 'outside', 'over', 'overall', 'overtime', 'own', 'owner', 'owners', 'oz', 'pa', 'pacific', 'package', 'packard', 'pagan', 'pagans', 'page', 'paid', 'pain', 'palm', 'panel', 'pantheism', 'papal', 'paper', 'paragraph', 'parallel', 'paraphrase', 'pardon', 'parents', 'park', 'part', 'participate', 'particular', 'particularly', 'parties', 'parts', 'party', 'pascal', 'pass', 'passage', 'passages', 'passed', 'passing', 'past', 'pastor', 'pat', 'path', 'patrick', 'patton', 'paul', 'pay', 'pb', 'pc', 'pds', 'peace', 'penalties', 'penalty', 'penguin', 'penguins', 'penn', 'pennsylvania', 'pens', 'pentium', 'people', 'peoples', 'per', 'percentage', 'perfect', 'perfectly', 'perform', 'performance', 'performed', 'perhaps', 'period', 'perish', 'permission', 'person', 'personal', 'personality', 'personally', 'persons', 'perspective', 'petch', 'pete', 'peter', 'pgh', 'ph', 'phds', 'phil', 'philadelphia', 'philly', 'philosophy', 'phoenix', 'phone', 'phrase', 'physical', 'physically', 'physics', 'pick', 'picked', 'picking', 'picks', 'picture', 'pictures', 'piece', 'pin', 'pins', 'pit', 'pitt', 'pittsburgh', 'pixie', 'pl8', 'place', 'placed', 'places', 'plain', 'plan', 'planet', 'planning', 'plans', 'play', 'played', 'player', 'players', 'playing', 'playoff', 'playoffs', 'plays', 'please', 'plenty', 'plug', 'plugged', 'plus', 'po', 'point', 'pointed', 'points', 'policy', 'political', 'poll', 'polytechnic', 'pool', 'poor', 'pope', 'popular', 'port', 'portable', 'portion', 'portland', 'ports', 'position', 'positive', 'possibility', 'possible', 'possibly', 'post', 'posted', 'poster', 'postings', 'posts', 'postscript', 'potential', 'potvin', 'poulin', 'power', 'powerbook', 'powerful', 'powerpc', 'powerplay', 'pp', 'practical', 'practice', 'praise', 'pray', 'prayer', 'prayers', 'praying', 'pre', 'preach', 'preached', 'predicting', 'predictions', 'prefer', 'prepared', 'presence', 'present', 'presented', 'president', 'press', 'pressure', 'presumably', 'pretty', 'prevent', 'previous', 'previously', 'price', 'prices', 'pride', 'priest', 'priests', 'primarily', 'primary', 'primeau', 'principle', 'principles', 'print', 'printer', 'printers', 'printing', 'prior', 'prism', 'pro', 'probably', 'probert', 'problem', 'problems', 'process', 'processor', 'produce', 'produced', 'product', 'production', 'products', 'professional', 'program', 'programmer', 'programs', 'progress', 'project', 'promise', 'promised', 'proof', 'proper', 'properly', 'prophecies', 'prophecy', 'prophet', 'prophets', 'protestant', 'prove', 'proved', 'proven', 'proverbs', 'provide', 'provided', 'providence', 'ps', 'psi', 'psu', 'psuvm', 'pts', 'public', 'puck', 'pull', 'pun', 'punished', 'punishment', 'purchase', 'purchased', 'purdue', 'pure', 'purely', 'purpose', 'purposes', 'push', 'put', 'puts', 'putting', 'q700', 'q800', 'quadra', 'quadras', 'quakers', 'quality', 'quantum', 'quarter', 'que', 'quebec', 'question', 'questioning', 'questions', 'quick', 'quickdraw', 'quickly', 'quite', 'quote', 'quoted', 'quotes', 'r2d2', 'race', 'radio', 'ragraca', 'raise', 'raised', 'ralph', 'ram', 'ramsey', 'ran', 'random', 'randy', 'range', 'ranger', 'rangers', 'rap115', 'rate', 'rather', 'ratings', 'rational', 'rauser', 'ray', 'rc', 'reach', 'reaching', 'reaction', 'read', 'reader', 'readers', 'reading', 'ready', 'real', 'reality', 'realize', 'realized', 'really', 'reason', 'reasonable', 'reasoning', 'reasons', 'rebound', 'rec', 'recall', 'recchi', 'receive', 'received', 'receiving', 'recent', 'recently', 'recognize', 'recognized', 'recommend', 'recommended', 'record', 'recorded', 'records', 'red', 'reedr', 'ref', 'refer', 'referee', 'reference', 'references', 'referring', 'refers', 'reflect', 'refuse', 'refused', 'regard', 'regarding', 'regardless', 'regards', 'regular', 'reichel', 'reject', 'rejected', 'rejecting', 'relate', 'related', 'relations', 'relationship', 'relatively', 'release', 'relevant', 'reliable', 'religion', 'religions', 'religious', 'rely', 'remain', 'remaining', 'remains', 'remark', 'remember', 'remind', 'remove', 'removed', 'removing', 'repair', 'replace', 'replaced', 'replacement', 'replies', 'reply', 'report', 'reported', 'reports', 'represent', 'represents', 'request', 'require', 'required', 'requirements', 'requires', 'research', 'resent', 'reserve', 'resigned', 'resolution', 'respect', 'respond', 'responding', 'response', 'responses', 'responsibility', 'responsible', 'rest', 'result', 'results', 'resurrection', 'retard', 'return', 'returned', 'returns', 'rev', 'revealed', 'revelation', 'revelations', 'review', 'rex', 'rexlex', 'rich', 'richard', 'richer', 'rick', 'rid', 'ridiculous', 'right', 'righteous', 'righteousness', 'rights', 'ring', 'rise', 'risen', 'risk', 'rm', 'road', 'rob', 'robbie', 'robert', 'roberts', 'robitaille', 'rochester', 'rock', 'rocket', 'rod', 'roenick', 'roger', 'role', 'rom', 'roman', 'romans', 'rome', 'roms', 'ron', 'rookie', 'room', 'root', 'rose', 'ross', 'roster', 'roughly', 'round', 'route', 'row', 'roy', 'royal', 'rpi', 'rule', 'rules', 'rumor', 'rumors', 'run', 'running', 'runs', 'rush', 'russia', 'russian', 'rutgers', 'ryan', 'sabbath', 'sabres', 'sacred', 'sad', 'said', 'saint', 'sake', 'salary', 'sale', 'sales', 'salvation', 'same', 'sample', 'samuel', 'san', 'sanderson', 'sas', 'satan', 'satanic', 'saturday', 'savard', 'save', 'saved', 'saves', 'saving', 'savior', 'saw', 'say', 'saying', 'says', 'sc', 'scanner', 'schedule', 'scholars', 'school', 'schools', 'sci', 'science', 'sciences', 'scientific', 'scientist', 'scientists', 'score', 'scored', 'scorer', 'scorers', 'scores', 'scoring', 'scott', 'screen', 'scripture', 'scriptures', 'scsi', 'se', 'sean', 'search', 'season', 'seat', 'seattle', 'second', 'seconds', 'section', 'secular', 'see', 'seeing', 'seek', 'seem', 'seemed', 'seems', 'seen', 'sees', 'sel', 'selanne', 'selannes', 'select', 'self', 'sell', 'selling', 'semak', 'semi', 'senators', 'send', 'sending', 'sense', 'senses', 'sent', 'separate', 'serial', 'series', 'serious', 'seriously', 'serve', 'server', 'service', 'services', 'set', 'seth', 'sets', 'setting', 'settle', 'setup', 'seven', 'several', 'sex', 'sexual', 'sfu', 'sg', 'sgi', 'sh', 'shadow', 'shall', 'shanahan', 'shanti', 'shaped', 'share', 'sharing', 'sharks', 'sharp', 'shawn', 'she', 'shell', 'shift', 'ship', 'shipped', 'shipping', 'shooting', 'shoots', 'short', 'shot', 'shots', 'should', 'shouldn', 'show', 'showed', 'showing', 'shown', 'shows', 'shut', 'shutout', 'si', 'sick', 'side', 'sides', 'sig', 'sight', 'sign', 'signal', 'significant', 'signs', 'silent', 'silver', 'silverlining', 'similar', 'similarly', 'simm', 'simms', 'simon', 'simple', 'simply', 'sin', 'since', 'sincerely', 'single', 'sinner', 'sinners', 'sins', 'sit', 'site', 'sitting', 'situation', 'situations', 'six', 'size', 'sj', 'skate', 'skill', 'skills', 'skins', 'slashing', 'slave', 'sledd', 'sleep', 'slegge', 'slightly', 'slip', 'slot', 'slots', 'slow', 'slower', 'smale', 'small', 'smaller', 'smith', 'sms', 'smythe', 'soc', 'social', 'society', 'socket', 'soderstrom', 'soft', 'software', 'sol', 'solar', 'sold', 'soldered', 'solid', 'solution', 'somebody', 'somehow', 'someone', 'something', 'sometime', 'sometimes', 'somewhat', 'somewhere', 'son', 'sony', 'soon', 'sooner', 'sorry', 'sort', 'sorts', 'soul', 'souls', 'sound', 'sounds', 'source', 'sources', 'south', 'southern', 'souviens', 'sp', 'space', 'spare', 'speak', 'speaker', 'speaking', 'speaks', 'special', 'specific', 'specifically', 'specs', 'speed', 'speeds', 'spend', 'spent', 'spirit', 'spiritual', 'spiritually', 'split', 'spoke', 'sport', 'sports', 'spot', 'spread', 'spreading', 'square', 'ssd', 'st', 'staff', 'staffan', 'stan', 'stand', 'standard', 'standards', 'standing', 'standings', 'stands', 'stanford', 'stanley', 'star', 'stars', 'start', 'started', 'starting', 'starts', 'startup', 'stat', 'state', 'stated', 'statement', 'statements', 'states', 'static', 'station', 'stats', 'status', 'stay', 'std', 'stein', 'step', 'stephen', 'steve', 'steveg', 'steven', 'stevens', 'stick', 'still', 'stl', 'stock', 'stockholm', 'stood', 'stop', 'stopped', 'stops', 'storage', 'store', 'stories', 'story', 'stpl', 'straight', 'strange', 'street', 'strength', 'strict', 'strictly', 'striped', 'strong', 'stronger', 'strongly', 'struck', 'stuck', 'student', 'students', 'studies', 'study', 'stuff', 'stupid', 'style', 'subjective', 'substance', 'success', 'successful', 'such', 'sudbury', 'suffer', 'suffered', 'suffering', 'sufficient', 'suggest', 'suggested', 'suggesting', 'suggestions', 'suggests', 'sullivan', 'summary', 'summer', 'sun', 'sunday', 'sundin', 'super', 'superior', 'supernatural', 'superstar', 'supply', 'support', 'supported', 'supports', 'suppose', 'supposed', 'supposedly', 'supreme', 'sure', 'surely', 'surprise', 'surprised', 'suspect', 'suter', 'sutter', 'sweden', 'swedish', 'switch', 'syquest', 'sys', 'system', 'systems', 'take', 'taken', 'takes', 'taking', 'talent', 'talk', 'talked', 'talking', 'talks', 'tampa', 'tape', 'task', 'taste', 'taught', 'taylor', 'tb', 'tc', 'teach', 'teaches', 'teaching', 'teachings', 'team', 'teams', 'tech', 'technical', 'technically', 'technologies', 'technology', 'ted', 'teemu', 'tek', 'tel', 'telecom', 'television', 'tell', 'telling', 'tells', 'temple', 'tempted', 'ten', 'tend', 'tends', 'term', 'terminal', 'terms', 'terresterial', 'terrible', 'terribly', 'terry', 'test', 'testament', 'testimony', 'testing', 'tests', 'texas', 'text', 'texts', 'than', 'thank', 'thanks', 'their', 'theist', 'them', 'themselves', 'then', 'theological', 'theology', 'theories', 'theory', 'therefore', 'these', 'thing', 'things', 'thinking', 'thinks', 'third', 'thomas', 'thor', 'thorne', 'those', 'thou', 'though', 'thought', 'thoughts', 'thousand', 'thread', 'three', 'through', 'throughout', 'throw', 'throwing', 'thrown', 'thru', 'thu', 'thumbs', 'thursday', 'thus', 'ticket', 'tickets', 'tie', 'tied', 'tim', 'time', 'times', 'timing', 'timothy', 'tin', 'tired', 'title', 'tkachuk', 'tm', 'tocchet', 'today', 'todd', 'together', 'told', 'tom', 'tommy', 'tomorrow', 'tonight', 'too', 'took', 'tools', 'top', 'topic', 'topics', 'tor', 'toronto', 'total', 'totally', 'touch', 'tough', 'tournament', 'toward', 'towards', 'town', 'track', 'trade', 'traded', 'trades', 'tradition', 'traditional', 'traditions', 'training', 'transfer', 'translation', 'treat', 'treated', 'trick', 'tried', 'trinity', 'trivia', 'trol', 'trophy', 'trouble', 'troy', 'true', 'truly', 'trust', 'truth', 'truths', 'try', 'trying', 'tsn', 'tte', 'tue', 'tuesday', 'turgeon', 'turn', 'turned', 'turner', 'turning', 'turns', 'tv', 'twice', 'two', 'tx', 'type', 'types', 'typical', 'typically', 'ubc', 'uchicago', 'ucs', 'ucsd', 'udel', 'ufsa', 'uga', 'uh', 'uiuc', 'uk', 'ulf', 'ultimately', 'umanitoba', 'umich', 'umn', 'umturne4', 'unable', 'unb', 'under', 'undergrad', 'understand', 'understanding', 'understood', 'unfair', 'unfortunately', 'uni', 'unique', 'unit', 'united', 'units', 'unity', 'univ', 'universal', 'universe', 'unix', 'unless', 'unlike', 'unlikely', 'unomaha', 'until', 'unto', 'up', 'update', 'updated', 'upenn', 'upgrade', 'upgraded', 'upgrades', 'upgrading', 'upon', 'upset', 'urbana', 'us', 'usa', 'usc', 'use', 'used', 'useful', 'useless', 'usenet', 'user', 'useragent', 'users', 'uses', 'using', 'usual', 'usually', 'utexas', 'utoronto', 'uu', 'uucp', 'uunet', 'uvic', 'uwaterloo', 'uwo', 'uxa', 'v1', 'valerie', 'valid', 'valley', 'valuable', 'value', 'values', 'van', 'vancouver', 'variety', 'various', 'vax', 'vbv', 've', 'vela', 'velasco', 'vera', 'verbeek', 'vernon', 'verse', 'verses', 'version', 'versions', 'vertical', 'very', 'vezina', 'vga', 'via', 'vice', 'victoria', 'victory', 'video', 'view', 'views', 'village', 'vipunen', 'virgilio', 'virgin', 'virginia', 'virtually', 'visible', 'vision', 'vms', 'vnews', 'voice', 'volume', 'vote', 'votes', 'vram', 'vs', 'wa', 'waco', 'wait', 'waiting', 'wake', 'wales', 'walk', 'walker', 'wall', 'wang', 'wangr', 'want', 'wanted', 'wants', 'war', 'warning', 'warranty', 'wars', 'washington', 'wasn', 'waste', 'watch', 'watched', 'watching', 'water', 'waterloo', 'watson', 'way', 'wayne', 'ways', 'wc', 'weak', 'weakness', 'wear', 'wednesday', 'week', 'weekly', 'weeks', 'weight', 'weird', 'welcome', 'well', 'went', 'were', 'weren', 'west', 'western', 'whalers', 'whatever', 'whatsoever', 'whenever', 'where', 'whereas', 'whether', 'which', 'whichever', 'while', 'white', 'whoever', 'whole', 'whom', 'whose', 'why', 'wide', 'wife', 'william', 'willing', 'win', 'window', 'windows', 'wing', 'wings', 'winner', 'winning', 'winnipeg', 'wins', 'wisdom', 'wise', 'wish', 'within', 'without', 'witness', 'witnesses', 'wkuvx1', 'woman', 'women', 'won', 'wonder', 'wonderful', 'wondering', 'wong', 'wood', 'word', 'words', 'work', 'worked', 'working', 'works', 'world', 'worry', 'worse', 'worship', 'worst', 'worth', 'worthy', 'wouldn', 'wow', 'write', 'writers', 'writing', 'writings', 'written', 'wrong', 'wrote', 'wtte', 'wustl', 'x86', 'xenon', 'ximenez', 'xxdate', 'xxmessage', 'yale', 'ye', 'yeah', 'year', 'years', 'yes', 'yesterday', 'yet', 'york', 'young', 'your', 'yours', 'yourself', 'yourselves', 'ysebaert', 'yzerman', 'z5', 'zhamnov', 'zone', 'zubov']\n"
     ]
    }
   ],
   "source": [
    "print(vectorizer.get_feature_names())"
   ]
  },
  {
   "cell_type": "code",
   "execution_count": 19,
   "metadata": {},
   "outputs": [
    {
     "data": {
      "text/plain": [
       "'From: erik@cheshire.oxy.edu (Erik Adams)\\nSubject: HELP!!  My Macintosh \"luggable\" has lines on its screen!\\nOrganization: Occidental College, Los Angeles, CA 90041 USA.\\nDistribution: comp\\nLines: 20\\n\\nOkay, I don\\'t use it very much, but I would like for it to keep working\\ncorrectly, at least as long as Apple continues to make System software\\nthat will run on it, if slowly :-)\\n\\nHere is the problem:  When the screen is tilted too far back, vertical\\nlines appear on the screen.  They are every 10 pixels or so, and seem\\nto be affected somewhat by opening windows and pulling down menus.\\nIt looks to a semi-technical person like there is a loose connection\\nbetween the screen and the rest of the computer.\\n\\nI am open to suggestions that do not involve buying a new computer,\\nor taking this one to the shop.  I would also like to not have\\nto buy one of Larry Pina\\'s books.  I like Larry, but I\\'m not sure\\nI feel strongly enough about the computer to buy a service manual\\nfor it.\\n\\nOn a related note:  what does the monitor connector connect to?\\n\\nErik\\n\\n'"
      ]
     },
     "execution_count": 19,
     "metadata": {},
     "output_type": "execute_result"
    }
   ],
   "source": [
    "simple_dataset.data[0]"
   ]
  },
  {
   "cell_type": "markdown",
   "metadata": {},
   "source": [
    "Приходим к тому, что в данном случае много шума и лучше использовать другой метод"
   ]
  },
  {
   "cell_type": "markdown",
   "metadata": {},
   "source": [
    "#### KMeans"
   ]
  },
  {
   "cell_type": "code",
   "execution_count": 20,
   "metadata": {},
   "outputs": [],
   "source": [
    "from sklearn.cluster import KMeans"
   ]
  },
  {
   "cell_type": "code",
   "execution_count": 21,
   "metadata": {},
   "outputs": [
    {
     "name": "stdout",
     "output_type": "stream",
     "text": [
      "[0 0 1 ... 0 1 2]\n",
      "[0 0 1 ... 0 1 2]\n"
     ]
    }
   ],
   "source": [
    "model = KMeans(n_clusters=3, random_state=42)\n",
    "preds = model.fit_predict(matrix.toarray())\n",
    "print(preds)\n",
    "print(simple_dataset.target)"
   ]
  },
  {
   "cell_type": "code",
   "execution_count": 22,
   "metadata": {},
   "outputs": [
    {
     "name": "stdout",
     "output_type": "stream",
     "text": [
      "0.04727068092290377\n"
     ]
    }
   ],
   "source": [
    "# Делаем отображение 1->2, 2->1\n",
    "mapping = {0 : 0, 1: 1, 2: 2}\n",
    "mapped_preds = [mapping[pred] for pred in preds]\n",
    "print(float(sum(mapped_preds != simple_dataset.target)) / len(simple_dataset.target))"
   ]
  },
  {
   "cell_type": "code",
   "execution_count": 23,
   "metadata": {},
   "outputs": [],
   "source": [
    "from sklearn.linear_model import LogisticRegression\n",
    "from sklearn.model_selection import cross_val_score"
   ]
  },
  {
   "cell_type": "markdown",
   "metadata": {},
   "source": [
    "Произведем сравнение кластеризации с классификатором"
   ]
  },
  {
   "cell_type": "code",
   "execution_count": 24,
   "metadata": {},
   "outputs": [
    {
     "name": "stdout",
     "output_type": "stream",
     "text": [
      "0.9859313182465581\n",
      "0.9527293190770962\n"
     ]
    }
   ],
   "source": [
    "clf = LogisticRegression()\n",
    "print(cross_val_score(clf, matrix, simple_dataset.target).mean())\n",
    "print(1 - float(sum(mapped_preds != simple_dataset.target)) / len(simple_dataset.target))"
   ]
  },
  {
   "cell_type": "markdown",
   "metadata": {},
   "source": [
    "#### Рассмотрим более сложную выборку"
   ]
  },
  {
   "cell_type": "markdown",
   "metadata": {},
   "source": [
    "Выбираем близкие друг к другу темы"
   ]
  },
  {
   "cell_type": "code",
   "execution_count": 25,
   "metadata": {},
   "outputs": [],
   "source": [
    "dataset = fetch_20newsgroups(subset = 'train',\n",
    "                            categories = ['comp.sys.mac.hardware', 'comp.os.ms-windows.misc', \n",
    "                                          'comp.graphics'])"
   ]
  },
  {
   "cell_type": "code",
   "execution_count": 26,
   "metadata": {},
   "outputs": [
    {
     "name": "stdout",
     "output_type": "stream",
     "text": [
      "[2 1 0 ... 2 0 2]\n",
      "[2 1 1 ... 2 0 2]\n"
     ]
    }
   ],
   "source": [
    "matrix = vectorizer.fit_transform(dataset.data)\n",
    "model = KMeans(n_clusters = 3, random_state = 42)\n",
    "preds = model.fit_predict(matrix.toarray())\n",
    "print(preds)\n",
    "print(dataset.target)"
   ]
  },
  {
   "cell_type": "code",
   "execution_count": 27,
   "metadata": {},
   "outputs": [
    {
     "name": "stdout",
     "output_type": "stream",
     "text": [
      "0.22304620650313747\n"
     ]
    }
   ],
   "source": [
    "mapping = {0 : 0, 1: 1, 2: 2}\n",
    "mapped_preds = [mapping[pred] for pred in preds]\n",
    "print(float(sum(mapped_preds != dataset.target)) / len(dataset.target))"
   ]
  },
  {
   "cell_type": "code",
   "execution_count": 28,
   "metadata": {},
   "outputs": [
    {
     "name": "stdout",
     "output_type": "stream",
     "text": [
      "0.9264143264143264\n"
     ]
    }
   ],
   "source": [
    "clf = LogisticRegression()\n",
    "print(cross_val_score(clf, matrix, dataset.target).mean())"
   ]
  },
  {
   "cell_type": "markdown",
   "metadata": {},
   "source": [
    "#### SVD + KMeans"
   ]
  },
  {
   "cell_type": "code",
   "execution_count": 29,
   "metadata": {},
   "outputs": [],
   "source": [
    "from sklearn.decomposition import TruncatedSVD"
   ]
  },
  {
   "cell_type": "code",
   "execution_count": 30,
   "metadata": {},
   "outputs": [
    {
     "name": "stdout",
     "output_type": "stream",
     "text": [
      "[1 0 2 ... 1 2 1]\n",
      "[2 1 1 ... 2 0 2]\n"
     ]
    }
   ],
   "source": [
    "model = KMeans(n_clusters = 3, random_state  = 42)\n",
    "svd = TruncatedSVD(n_components = 1000, random_state = 123)\n",
    "features = svd.fit_transform(matrix)\n",
    "preds = model.fit_predict(features)\n",
    "print(preds)\n",
    "print(dataset.target)"
   ]
  },
  {
   "cell_type": "code",
   "execution_count": 37,
   "metadata": {},
   "outputs": [
    {
     "name": "stdout",
     "output_type": "stream",
     "text": [
      "0.29834569309754705\n"
     ]
    }
   ],
   "source": [
    "mapping = {1:2, 0:1, 2:0}\n",
    "mapped_preds = [mapping[pred] for pred in preds]\n",
    "print(float(sum(mapped_preds != dataset.target) / len(dataset.target)))"
   ]
  },
  {
   "cell_type": "markdown",
   "metadata": {},
   "source": [
    "Еще сильнее понижаем размерность пространства признаков"
   ]
  },
  {
   "cell_type": "code",
   "execution_count": 32,
   "metadata": {},
   "outputs": [
    {
     "name": "stdout",
     "output_type": "stream",
     "text": [
      "[1 2 1 ... 1 1 1]\n",
      "[2 1 1 ... 2 0 2]\n"
     ]
    }
   ],
   "source": [
    "model = KMeans(n_clusters=3, random_state=42)\n",
    "svd = TruncatedSVD(n_components=200, random_state=123)\n",
    "features = svd.fit_transform(matrix)\n",
    "preds = model.fit_predict(features)\n",
    "print(preds)\n",
    "print(dataset.target)"
   ]
  },
  {
   "cell_type": "code",
   "execution_count": 41,
   "metadata": {},
   "outputs": [
    {
     "name": "stdout",
     "output_type": "stream",
     "text": [
      "0.6782658300057045\n",
      "0.29834569309754705\n",
      "0.7992013690815745\n",
      "0.549343981745579\n",
      "0.7723901882487165\n",
      "0.9024529378208785\n"
     ]
    }
   ],
   "source": [
    "import itertools\n",
    "def validate_with_mappings(preds, target, dataset):\n",
    "    permutations = itertools.permutations([0, 1, 2])\n",
    "    for a, b, c in permutations:\n",
    "        mapping = {2 : a, 1: b, 0: c}\n",
    "        mapped_preds = [mapping[pred] for pred in preds]\n",
    "        print(float(sum(mapped_preds != target)) / len(target))\n",
    "        \n",
    "validate_with_mappings(preds, dataset.target, dataset)"
   ]
  },
  {
   "cell_type": "code",
   "execution_count": 34,
   "metadata": {},
   "outputs": [
    {
     "name": "stdout",
     "output_type": "stream",
     "text": [
      "[1 2 2 ... 1 2 1]\n",
      "[2 1 1 ... 2 0 2]\n",
      "0.6782658300057045\n",
      "0.29834569309754705\n",
      "0.7992013690815745\n",
      "0.549343981745579\n",
      "0.7723901882487165\n",
      "0.9024529378208785\n"
     ]
    }
   ],
   "source": [
    "model = KMeans(n_clusters=3, random_state=42)\n",
    "svd = TruncatedSVD(n_components=200, random_state=321)\n",
    "features = svd.fit_transform(matrix)\n",
    "preds = model.fit_predict(features)\n",
    "print(preds)\n",
    "print(dataset.target)\n",
    "validate_with_mappings(preds, dataset.target, dataset)"
   ]
  },
  {
   "cell_type": "code",
   "execution_count": null,
   "metadata": {},
   "outputs": [],
   "source": []
  }
 ],
 "metadata": {
  "kernelspec": {
   "display_name": "Python 3",
   "language": "python",
   "name": "python3"
  },
  "language_info": {
   "codemirror_mode": {
    "name": "ipython",
    "version": 3
   },
   "file_extension": ".py",
   "mimetype": "text/x-python",
   "name": "python",
   "nbconvert_exporter": "python",
   "pygments_lexer": "ipython3",
   "version": "3.8.3"
  }
 },
 "nbformat": 4,
 "nbformat_minor": 4
}
