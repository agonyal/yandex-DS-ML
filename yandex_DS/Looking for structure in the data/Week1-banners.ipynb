{
 "cells": [
  {
   "cell_type": "code",
   "execution_count": 1,
   "metadata": {},
   "outputs": [],
   "source": [
    "import pandas as pd\n",
    "import numpy as np\n",
    "from sklearn.cluster import MeanShift\n",
    "import time"
   ]
  },
  {
   "cell_type": "code",
   "execution_count": 48,
   "metadata": {
    "collapsed": true,
    "jupyter": {
     "outputs_hidden": true
    }
   },
   "outputs": [
    {
     "name": "stderr",
     "output_type": "stream",
     "text": [
      "c:\\users\\miair\\appdata\\local\\programs\\python\\python38-32\\lib\\site-packages\\IPython\\core\\interactiveshell.py:3071: DtypeWarning: Columns (0) have mixed types.Specify dtype option on import or set low_memory=False.\n",
      "  has_raised = await self.run_ast_nodes(code_ast.body, cell_name,\n"
     ]
    }
   ],
   "source": [
    "data = pd.read_csv('checkins.dat',sep = '|', skipinitialspace=True).dropna()"
   ]
  },
  {
   "cell_type": "code",
   "execution_count": 49,
   "metadata": {},
   "outputs": [
    {
     "name": "stdout",
     "output_type": "stream",
     "text": [
      "<class 'pandas.core.frame.DataFrame'>\n",
      "Int64Index: 396634 entries, 2 to 1021965\n",
      "Data columns (total 6 columns):\n",
      " #   Column            Non-Null Count   Dtype  \n",
      "---  ------            --------------   -----  \n",
      " 0   id                396634 non-null  object \n",
      " 1   user_id           396634 non-null  float64\n",
      " 2   venue_id          396634 non-null  float64\n",
      " 3   latitude          396634 non-null  float64\n",
      " 4   longitude         396634 non-null  float64\n",
      " 5   created_at        396634 non-null  object \n",
      "dtypes: float64(4), object(2)\n",
      "memory usage: 18.2+ MB\n"
     ]
    }
   ],
   "source": [
    "data.info()"
   ]
  },
  {
   "cell_type": "code",
   "execution_count": 50,
   "metadata": {},
   "outputs": [],
   "source": [
    "data.iloc[:,5] = pd.to_datetime(data.iloc[:,5])"
   ]
  },
  {
   "cell_type": "code",
   "execution_count": 51,
   "metadata": {},
   "outputs": [],
   "source": [
    "data.iloc[:,5] = pd.to_numeric(data.iloc[:,5])"
   ]
  },
  {
   "cell_type": "code",
   "execution_count": 52,
   "metadata": {},
   "outputs": [
    {
     "name": "stdout",
     "output_type": "stream",
     "text": [
      "<class 'pandas.core.frame.DataFrame'>\n",
      "Int64Index: 396634 entries, 2 to 1021965\n",
      "Data columns (total 6 columns):\n",
      " #   Column            Non-Null Count   Dtype  \n",
      "---  ------            --------------   -----  \n",
      " 0   id                396634 non-null  object \n",
      " 1   user_id           396634 non-null  float64\n",
      " 2   venue_id          396634 non-null  float64\n",
      " 3   latitude          396634 non-null  float64\n",
      " 4   longitude         396634 non-null  float64\n",
      " 5   created_at        396634 non-null  int64  \n",
      "dtypes: float64(4), int64(1), object(1)\n",
      "memory usage: 19.7+ MB\n"
     ]
    }
   ],
   "source": [
    "data.info()"
   ]
  },
  {
   "cell_type": "code",
   "execution_count": 53,
   "metadata": {},
   "outputs": [],
   "source": [
    "data_new = data[:100000].iloc[:, 3:5]"
   ]
  },
  {
   "cell_type": "code",
   "execution_count": 54,
   "metadata": {},
   "outputs": [
    {
     "data": {
      "text/html": [
       "<div>\n",
       "<style scoped>\n",
       "    .dataframe tbody tr th:only-of-type {\n",
       "        vertical-align: middle;\n",
       "    }\n",
       "\n",
       "    .dataframe tbody tr th {\n",
       "        vertical-align: top;\n",
       "    }\n",
       "\n",
       "    .dataframe thead th {\n",
       "        text-align: right;\n",
       "    }\n",
       "</style>\n",
       "<table border=\"1\" class=\"dataframe\">\n",
       "  <thead>\n",
       "    <tr style=\"text-align: right;\">\n",
       "      <th></th>\n",
       "      <th>latitude</th>\n",
       "      <th>longitude</th>\n",
       "    </tr>\n",
       "  </thead>\n",
       "  <tbody>\n",
       "    <tr>\n",
       "      <th>2</th>\n",
       "      <td>38.895112</td>\n",
       "      <td>-77.036366</td>\n",
       "    </tr>\n",
       "    <tr>\n",
       "      <th>4</th>\n",
       "      <td>33.800745</td>\n",
       "      <td>-84.410520</td>\n",
       "    </tr>\n",
       "    <tr>\n",
       "      <th>8</th>\n",
       "      <td>45.523452</td>\n",
       "      <td>-122.676207</td>\n",
       "    </tr>\n",
       "    <tr>\n",
       "      <th>10</th>\n",
       "      <td>40.764462</td>\n",
       "      <td>-111.904565</td>\n",
       "    </tr>\n",
       "    <tr>\n",
       "      <th>11</th>\n",
       "      <td>33.448377</td>\n",
       "      <td>-112.074037</td>\n",
       "    </tr>\n",
       "  </tbody>\n",
       "</table>\n",
       "</div>"
      ],
      "text/plain": [
       "    latitude        longitude     \n",
       "2        38.895112      -77.036366\n",
       "4        33.800745      -84.410520\n",
       "8        45.523452     -122.676207\n",
       "10       40.764462     -111.904565\n",
       "11       33.448377     -112.074037"
      ]
     },
     "execution_count": 54,
     "metadata": {},
     "output_type": "execute_result"
    }
   ],
   "source": [
    "data_new.head()"
   ]
  },
  {
   "cell_type": "code",
   "execution_count": 20,
   "metadata": {},
   "outputs": [
    {
     "name": "stdout",
     "output_type": "stream",
     "text": [
      "Wall time: 2min 50s\n"
     ]
    }
   ],
   "source": [
    "%%time\n",
    "clustering  = MeanShift(bandwidth=0.1).fit(data_new)    "
   ]
  },
  {
   "cell_type": "code",
   "execution_count": 25,
   "metadata": {},
   "outputs": [
    {
     "data": {
      "text/plain": [
       "array([   0,    1,    2, ..., 3228, 3229, 3230], dtype=int32)"
      ]
     },
     "execution_count": 25,
     "metadata": {},
     "output_type": "execute_result"
    }
   ],
   "source": [
    "np.unique(clustering.labels_)"
   ]
  },
  {
   "cell_type": "code",
   "execution_count": 22,
   "metadata": {},
   "outputs": [
    {
     "data": {
      "text/plain": [
       "array([[  40.7177164 ,  -73.99183542],\n",
       "       [  33.44943805, -112.00213969],\n",
       "       [  33.44638027, -111.90188756],\n",
       "       ...,\n",
       "       [ -37.8229826 ,  145.1811902 ],\n",
       "       [ -41.2924945 ,  174.7732353 ],\n",
       "       [ -45.0311622 ,  168.6626435 ]])"
      ]
     },
     "execution_count": 22,
     "metadata": {},
     "output_type": "execute_result"
    }
   ],
   "source": [
    "clustering.cluster_centers_"
   ]
  },
  {
   "cell_type": "code",
   "execution_count": 56,
   "metadata": {},
   "outputs": [
    {
     "name": "stdout",
     "output_type": "stream",
     "text": [
      "Wall time: 2min 53s\n"
     ]
    }
   ],
   "source": [
    "%%time\n",
    "data_new['clusters'] = clustering.fit_predict(data_new)"
   ]
  },
  {
   "cell_type": "code",
   "execution_count": 57,
   "metadata": {},
   "outputs": [],
   "source": [
    "data_new = data_new.loc[data_new['clusters']>15]"
   ]
  },
  {
   "cell_type": "code",
   "execution_count": 58,
   "metadata": {},
   "outputs": [
    {
     "name": "stdout",
     "output_type": "stream",
     "text": [
      "<class 'pandas.core.frame.DataFrame'>\n",
      "Int64Index: 56734 entries, 8 to 233798\n",
      "Data columns (total 3 columns):\n",
      " #   Column          Non-Null Count  Dtype  \n",
      "---  ------          --------------  -----  \n",
      " 0   latitude        56734 non-null  float64\n",
      " 1   longitude       56734 non-null  float64\n",
      " 2   clusters        56734 non-null  int32  \n",
      "dtypes: float64(2), int32(1)\n",
      "memory usage: 1.5 MB\n"
     ]
    }
   ],
   "source": [
    "data_new.info()"
   ]
  },
  {
   "cell_type": "code",
   "execution_count": 45,
   "metadata": {},
   "outputs": [
    {
     "data": {
      "text/html": [
       "<div>\n",
       "<style scoped>\n",
       "    .dataframe tbody tr th:only-of-type {\n",
       "        vertical-align: middle;\n",
       "    }\n",
       "\n",
       "    .dataframe tbody tr th {\n",
       "        vertical-align: top;\n",
       "    }\n",
       "\n",
       "    .dataframe thead th {\n",
       "        text-align: right;\n",
       "    }\n",
       "</style>\n",
       "<table border=\"1\" class=\"dataframe\">\n",
       "  <thead>\n",
       "    <tr style=\"text-align: right;\">\n",
       "      <th></th>\n",
       "      <th>latitude</th>\n",
       "      <th>longitude</th>\n",
       "      <th>clusters</th>\n",
       "      <th>distance</th>\n",
       "    </tr>\n",
       "  </thead>\n",
       "  <tbody>\n",
       "    <tr>\n",
       "      <th>8</th>\n",
       "      <td>45.523452</td>\n",
       "      <td>-122.676207</td>\n",
       "      <td>30</td>\n",
       "      <td>126.291139</td>\n",
       "    </tr>\n",
       "    <tr>\n",
       "      <th>10</th>\n",
       "      <td>40.764462</td>\n",
       "      <td>-111.904565</td>\n",
       "      <td>65</td>\n",
       "      <td>129.412641</td>\n",
       "    </tr>\n",
       "    <tr>\n",
       "      <th>12</th>\n",
       "      <td>32.221743</td>\n",
       "      <td>-110.926479</td>\n",
       "      <td>23</td>\n",
       "      <td>113.285850</td>\n",
       "    </tr>\n",
       "    <tr>\n",
       "      <th>27</th>\n",
       "      <td>33.248664</td>\n",
       "      <td>-111.634299</td>\n",
       "      <td>137</td>\n",
       "      <td>176.723560</td>\n",
       "    </tr>\n",
       "    <tr>\n",
       "      <th>28</th>\n",
       "      <td>32.840678</td>\n",
       "      <td>-117.258794</td>\n",
       "      <td>237</td>\n",
       "      <td>264.421301</td>\n",
       "    </tr>\n",
       "    <tr>\n",
       "      <th>...</th>\n",
       "      <td>...</td>\n",
       "      <td>...</td>\n",
       "      <td>...</td>\n",
       "      <td>...</td>\n",
       "    </tr>\n",
       "    <tr>\n",
       "      <th>233770</th>\n",
       "      <td>35.994033</td>\n",
       "      <td>-78.898619</td>\n",
       "      <td>151</td>\n",
       "      <td>170.370162</td>\n",
       "    </tr>\n",
       "    <tr>\n",
       "      <th>233781</th>\n",
       "      <td>29.762884</td>\n",
       "      <td>-95.383061</td>\n",
       "      <td>25</td>\n",
       "      <td>98.604911</td>\n",
       "    </tr>\n",
       "    <tr>\n",
       "      <th>233789</th>\n",
       "      <td>33.575000</td>\n",
       "      <td>-117.725556</td>\n",
       "      <td>50</td>\n",
       "      <td>127.903504</td>\n",
       "    </tr>\n",
       "    <tr>\n",
       "      <th>233794</th>\n",
       "      <td>29.762884</td>\n",
       "      <td>-95.383061</td>\n",
       "      <td>25</td>\n",
       "      <td>98.604911</td>\n",
       "    </tr>\n",
       "    <tr>\n",
       "      <th>233798</th>\n",
       "      <td>32.802955</td>\n",
       "      <td>-96.769923</td>\n",
       "      <td>19</td>\n",
       "      <td>98.617534</td>\n",
       "    </tr>\n",
       "  </tbody>\n",
       "</table>\n",
       "<p>56734 rows × 4 columns</p>\n",
       "</div>"
      ],
      "text/plain": [
       "        latitude        longitude       clusters    distance\n",
       "8            45.523452     -122.676207        30  126.291139\n",
       "10           40.764462     -111.904565        65  129.412641\n",
       "12           32.221743     -110.926479        23  113.285850\n",
       "27           33.248664     -111.634299       137  176.723560\n",
       "28           32.840678     -117.258794       237  264.421301\n",
       "...                ...             ...       ...         ...\n",
       "233770       35.994033      -78.898619       151  170.370162\n",
       "233781       29.762884      -95.383061        25   98.604911\n",
       "233789       33.575000     -117.725556        50  127.903504\n",
       "233794       29.762884      -95.383061        25   98.604911\n",
       "233798       32.802955      -96.769923        19   98.617534\n",
       "\n",
       "[56734 rows x 4 columns]"
      ]
     },
     "execution_count": 45,
     "metadata": {},
     "output_type": "execute_result"
    }
   ],
   "source": [
    "data_new"
   ]
  },
  {
   "cell_type": "code",
   "execution_count": 46,
   "metadata": {},
   "outputs": [],
   "source": [
    "latitude = [25.867736, 51.503016, 52.378894, 39.366487, -33.868457]\n",
    "longitude = [-80.324116, -0.075479, 4.885084, 117.036146, 151.205134]\n"
   ]
  },
  {
   "cell_type": "code",
   "execution_count": 62,
   "metadata": {},
   "outputs": [],
   "source": [
    "def distance(X, a, b):\n",
    "    return np.sqrt((X.iloc[:,1]-a)**2 + (X.iloc[:,2]-b)**2)"
   ]
  },
  {
   "cell_type": "markdown",
   "metadata": {},
   "source": [
    "Имеется 5 центров с определенными координатами, найти 20 кластерв, находящихся ближе всего к каждому из центров\n"
   ]
  },
  {
   "cell_type": "code",
   "execution_count": 71,
   "metadata": {},
   "outputs": [
    {
     "name": "stderr",
     "output_type": "stream",
     "text": [
      "<ipython-input-71-1f9fe3ae75b0>:2: SettingWithCopyWarning: \n",
      "A value is trying to be set on a copy of a slice from a DataFrame.\n",
      "Try using .loc[row_indexer,col_indexer] = value instead\n",
      "\n",
      "See the caveats in the documentation: https://pandas.pydata.org/pandas-docs/stable/user_guide/indexing.html#returning-a-view-versus-a-copy\n",
      "  data_new['distance_{}'.format(i)] = distance(data_new, latitude[i-1], longitude[i-1])\n"
     ]
    }
   ],
   "source": [
    "for i in range(1, 6):\n",
    "    data_new['distance_{}'.format(i)] = distance(data_new, latitude[i-1], longitude[i-1])"
   ]
  },
  {
   "cell_type": "code",
   "execution_count": 99,
   "metadata": {},
   "outputs": [
    {
     "data": {
      "text/html": [
       "<div>\n",
       "<style scoped>\n",
       "    .dataframe tbody tr th:only-of-type {\n",
       "        vertical-align: middle;\n",
       "    }\n",
       "\n",
       "    .dataframe tbody tr th {\n",
       "        vertical-align: top;\n",
       "    }\n",
       "\n",
       "    .dataframe thead th {\n",
       "        text-align: right;\n",
       "    }\n",
       "</style>\n",
       "<table border=\"1\" class=\"dataframe\">\n",
       "  <thead>\n",
       "    <tr style=\"text-align: right;\">\n",
       "      <th></th>\n",
       "      <th>latitude</th>\n",
       "      <th>longitude</th>\n",
       "      <th>clusters</th>\n",
       "      <th>distance_1</th>\n",
       "      <th>distance_2</th>\n",
       "      <th>distance_3</th>\n",
       "      <th>distance_4</th>\n",
       "      <th>distance_5</th>\n",
       "    </tr>\n",
       "  </thead>\n",
       "  <tbody>\n",
       "    <tr>\n",
       "      <th>8</th>\n",
       "      <td>45.523452</td>\n",
       "      <td>-122.676207</td>\n",
       "      <td>30</td>\n",
       "      <td>185.031656</td>\n",
       "      <td>176.756715</td>\n",
       "      <td>176.847526</td>\n",
       "      <td>183.937830</td>\n",
       "      <td>150.258115</td>\n",
       "    </tr>\n",
       "    <tr>\n",
       "      <th>10</th>\n",
       "      <td>40.764462</td>\n",
       "      <td>-111.904565</td>\n",
       "      <td>65</td>\n",
       "      <td>200.250607</td>\n",
       "      <td>175.888759</td>\n",
       "      <td>174.936726</td>\n",
       "      <td>159.970909</td>\n",
       "      <td>116.279660</td>\n",
       "    </tr>\n",
       "    <tr>\n",
       "      <th>12</th>\n",
       "      <td>32.221743</td>\n",
       "      <td>-110.926479</td>\n",
       "      <td>23</td>\n",
       "      <td>171.430832</td>\n",
       "      <td>164.060411</td>\n",
       "      <td>164.307015</td>\n",
       "      <td>177.287260</td>\n",
       "      <td>149.581065</td>\n",
       "    </tr>\n",
       "    <tr>\n",
       "      <th>27</th>\n",
       "      <td>33.248664</td>\n",
       "      <td>-111.634299</td>\n",
       "      <td>137</td>\n",
       "      <td>257.170335</td>\n",
       "      <td>213.080902</td>\n",
       "      <td>210.605505</td>\n",
       "      <td>152.314782</td>\n",
       "      <td>79.052590</td>\n",
       "    </tr>\n",
       "    <tr>\n",
       "      <th>28</th>\n",
       "      <td>32.840678</td>\n",
       "      <td>-117.258794</td>\n",
       "      <td>237</td>\n",
       "      <td>348.108888</td>\n",
       "      <td>291.007442</td>\n",
       "      <td>287.496573</td>\n",
       "      <td>197.288633</td>\n",
       "      <td>119.644086</td>\n",
       "    </tr>\n",
       "  </tbody>\n",
       "</table>\n",
       "</div>"
      ],
      "text/plain": [
       "    latitude        longitude       clusters  distance_1  distance_2  \\\n",
       "8        45.523452     -122.676207        30  185.031656  176.756715   \n",
       "10       40.764462     -111.904565        65  200.250607  175.888759   \n",
       "12       32.221743     -110.926479        23  171.430832  164.060411   \n",
       "27       33.248664     -111.634299       137  257.170335  213.080902   \n",
       "28       32.840678     -117.258794       237  348.108888  291.007442   \n",
       "\n",
       "    distance_3  distance_4  distance_5  \n",
       "8   176.847526  183.937830  150.258115  \n",
       "10  174.936726  159.970909  116.279660  \n",
       "12  164.307015  177.287260  149.581065  \n",
       "27  210.605505  152.314782   79.052590  \n",
       "28  287.496573  197.288633  119.644086  "
      ]
     },
     "execution_count": 99,
     "metadata": {},
     "output_type": "execute_result"
    }
   ],
   "source": [
    "data_new.head()"
   ]
  },
  {
   "cell_type": "code",
   "execution_count": 89,
   "metadata": {},
   "outputs": [
    {
     "name": "stdout",
     "output_type": "stream",
     "text": [
      "latitude           -6.195438\n",
      "longitude         106.743783\n",
      "clusters           33.000000\n",
      "distance_1        139.223885\n",
      "distance_2         64.385788\n",
      "distance_3         61.204491\n",
      "distance_4        107.711531\n",
      "distance_5        183.696096\n",
      "dtype: float64\n",
      "latitude           -6.195438\n",
      "longitude         106.743783\n",
      "clusters           33.000000\n",
      "distance_1        139.223885\n",
      "distance_2         64.385788\n",
      "distance_3         61.204491\n",
      "distance_4        107.711531\n",
      "distance_5        183.696096\n",
      "dtype: float64\n",
      "latitude           -6.195438\n",
      "longitude         106.743783\n",
      "clusters           33.000000\n",
      "distance_1        139.223885\n",
      "distance_2         64.385788\n",
      "distance_3         61.204491\n",
      "distance_4        107.711531\n",
      "distance_5        183.696096\n",
      "dtype: float64\n",
      "latitude           -0.301226\n",
      "longitude          36.522964\n",
      "clusters          103.000000\n",
      "distance_1        183.633508\n",
      "distance_2        104.158323\n",
      "distance_3         99.387863\n",
      "distance_4         14.321278\n",
      "distance_5         85.315222\n",
      "dtype: float64\n",
      "latitude           40.725099\n",
      "longitude         -73.245395\n",
      "clusters          152.000000\n",
      "distance_1        252.582477\n",
      "distance_2        196.695494\n",
      "distance_3        193.453510\n",
      "distance_4        117.914829\n",
      "distance_5         39.384959\n",
      "dtype: float64\n"
     ]
    }
   ],
   "source": [
    "for i in range(1, 6):\n",
    "    print(data_new.loc[data_new['distance_{}'.format(i)] == data_new['distance_{}'.format(i)].min() ].min())"
   ]
  },
  {
   "cell_type": "raw",
   "metadata": {},
   "source": [
    "Таким образом, миниальное расстояние от центра кластера до оффиса в Сиднее(-33.868457, 151.205134)"
   ]
  },
  {
   "cell_type": "code",
   "execution_count": null,
   "metadata": {},
   "outputs": [],
   "source": []
  },
  {
   "cell_type": "code",
   "execution_count": null,
   "metadata": {},
   "outputs": [],
   "source": []
  },
  {
   "cell_type": "code",
   "execution_count": null,
   "metadata": {},
   "outputs": [],
   "source": []
  },
  {
   "cell_type": "code",
   "execution_count": null,
   "metadata": {},
   "outputs": [],
   "source": []
  },
  {
   "cell_type": "code",
   "execution_count": null,
   "metadata": {},
   "outputs": [],
   "source": []
  },
  {
   "cell_type": "code",
   "execution_count": null,
   "metadata": {},
   "outputs": [],
   "source": []
  },
  {
   "cell_type": "code",
   "execution_count": null,
   "metadata": {},
   "outputs": [],
   "source": []
  }
 ],
 "metadata": {
  "kernelspec": {
   "display_name": "Python 3",
   "language": "python",
   "name": "python3"
  },
  "language_info": {
   "codemirror_mode": {
    "name": "ipython",
    "version": 3
   },
   "file_extension": ".py",
   "mimetype": "text/x-python",
   "name": "python",
   "nbconvert_exporter": "python",
   "pygments_lexer": "ipython3",
   "version": "3.8.3"
  }
 },
 "nbformat": 4,
 "nbformat_minor": 4
}
